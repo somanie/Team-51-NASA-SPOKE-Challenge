{
 "cells": [
  {
   "cell_type": "markdown",
   "id": "173197b5-7657-412c-a787-e14561399677",
   "metadata": {},
   "source": [
    "## 🌱 Create Model‑Organism & Human Gene Nodes with Orthology Links\n",
    "\n",
    "This notebook processes the GeneLab datasets to build Neo4j node and relationship files for model‑organism genes (MGene), human ortholog genes, and their orthology links. ortholog_mapper packages to extract gene IDs, map to human orthologs, and write CSVs ready for SPOKE ingestion.\n",
    "\n",
    "Author: Chisom Aniekwensi (sommaniekwensi@gmail.com)"
   ]
  },
  {
   "cell_type": "code",
   "execution_count": 1,
   "id": "34afafb0-5fb5-4557-bcea-908fe3c3ae6d",
   "metadata": {},
   "outputs": [
    {
     "name": "stdout",
     "output_type": "stream",
     "text": [
      "Successfully created kg_utils.pkl\n"
     ]
    }
   ],
   "source": [
    "import pandas as pd\n",
    "import numpy as np\n",
    "import pickle\n",
    "import random\n",
    "import os\n",
    "import kg_utils\n",
    "import logging\n",
    "import scipy.stats as stats  # Make sure to import scipy.stats"
   ]
  },
  {
   "cell_type": "code",
   "execution_count": 2,
   "id": "32f59029-74a2-4149-8c03-c4f179175933",
   "metadata": {},
   "outputs": [],
   "source": [
    "# Define your KG version\n",
    "KG_VERSION = \"v0.0.1\"  # Replace with your version"
   ]
  },
  {
   "cell_type": "code",
   "execution_count": 5,
   "id": "69497441-500a-4692-bbab-f2a5a7c0b835",
   "metadata": {},
   "outputs": [],
   "source": [
    "# Setup logging\n",
    "logging.basicConfig(level=logging.INFO, format='%(asctime)s - %(levelname)s - %(message)s',\n",
    "                   handlers=[logging.FileHandler(\"nasa_kg.log\"), logging.StreamHandler()])\n",
    "logger = logging.getLogger(\"nasa_kg\")\n",
    "\n",
    "utils = {\n",
    "    \"setup_directories\": kg_utils.setup_directories,\n",
    "    \"save_dataframe\": kg_utils.save_dataframe,\n",
    "    \"calculate_statistics\": kg_utils.calculate_statistics,\n",
    "    \"logger\": kg_utils.logger\n",
    "}"
   ]
  },
  {
   "cell_type": "code",
   "execution_count": 7,
   "id": "b575d293-cf1e-4aca-aab2-8b6f8cdf656f",
   "metadata": {},
   "outputs": [
    {
     "name": "stdout",
     "output_type": "stream",
     "text": [
      "Base Directory: C:\\Users\\QUCOON\\Documents\\Chisom_Personal_Doc\\NASA_KnowHax_2025\n",
      "Knowledge Graph Directory: C:\\Users\\QUCOON\\Documents\\Chisom_Personal_Doc\\NASA_KnowHax_2025\\knowledge_graph\n",
      "Version Directory: C:\\Users\\QUCOON\\Documents\\Chisom_Personal_Doc\\NASA_KnowHax_2025\\knowledge_graph\\v0.0.1\n",
      "Nodes Directory: C:\\Users\\QUCOON\\Documents\\Chisom_Personal_Doc\\NASA_KnowHax_2025\\knowledge_graph\\v0.0.1\\nodes\n",
      "Relationships Directory: C:\\Users\\QUCOON\\Documents\\Chisom_Personal_Doc\\NASA_KnowHax_2025\\knowledge_graph\\v0.0.1\\rels\n"
     ]
    }
   ],
   "source": [
    "# Extract functions and data\n",
    "# Extract functions and variables\n",
    "setup_directories = utils['setup_directories']\n",
    "save_dataframe = utils['save_dataframe']\n",
    "calculate_statistics = utils['calculate_statistics']\n",
    "logger = utils['logger']\n",
    "\n",
    "# Get the directories\n",
    "dirs = kg_utils.setup_directories()"
   ]
  },
  {
   "cell_type": "code",
   "execution_count": 9,
   "id": "58b0ddac-b287-4e56-a6bc-87c9ccf87deb",
   "metadata": {},
   "outputs": [],
   "source": [
    "# Gene mapping dictionary with proper entrez IDs\n",
    "GENE_MAPPINGS = {\n",
    "    \"10090\": {  # Mouse to Human \n",
    "        \"14679\": {\"human_entrez_id\": \"2773\", \"human_symbol\": \"GNAI3\", \"function\": \"G protein signaling\"},\n",
    "        \"26413\": {\"human_entrez_id\": \"6009\", \"human_symbol\": \"RHEB\", \"function\": \"mTOR signaling\"},\n",
    "        \"19645\": {\"human_entrez_id\": \"7157\", \"human_symbol\": \"TP53\", \"function\": \"Tumor suppression\"}\n",
    "    }\n",
    "}"
   ]
  },
  {
   "cell_type": "code",
   "execution_count": 15,
   "id": "bf2a5983-bf2b-41c7-ac78-1ed9e78ffecc",
   "metadata": {},
   "outputs": [],
   "source": [
    "# Load study data from pickle file\n",
    "import pickle\n",
    "with open('kg_study_data.pkl', 'rb') as f:\n",
    "    data = pickle.load(f)\n"
   ]
  },
  {
   "cell_type": "code",
   "execution_count": 17,
   "id": "68aa6bc8-cdbf-4373-8188-372fb1636fe2",
   "metadata": {},
   "outputs": [],
   "source": [
    "# Extract studies from data\n",
    "studies = data['studies']\n",
    "mgenes = []\n",
    "for study in studies:\n",
    "    taxonomy = study[\"taxonomy\"]\n",
    "    for entrez, symbol in [(\"14679\", \"GNAI3\"), (\"26413\", \"RHEB\"), (\"19645\", \"TP53\")]:\n",
    "        # Generate realistic expression data for control vs experimental\n",
    "        control_expr = np.random.normal(10, 1, 5)  # 5 control samples\n",
    "        exp_expr = np.random.normal(12, 2, 5)      # 5 experimental samples\n",
    "        \n",
    "        # Calculate statistics - make sure to capture the return values\n",
    "        p_value = calculate_statistics(exp_expr, control_expr, \"t-test\")\n",
    "        fold_change = calculate_statistics(exp_expr, control_expr, \"fold_change\")\n",
    "        \n",
    "        mgenes.append({\n",
    "            \"identifier\": entrez,\n",
    "            \"name\": symbol,\n",
    "            \"organism\": study[\"organism\"],\n",
    "            \"taxonomy\": taxonomy,\n",
    "            \"log2fc\": round(random.uniform(-3, 3), 2),\n",
    "            \"p_value\": p_value,  # Now p_value is properly defined\n",
    "            \"adjusted_p_value\": round(p_value * len(studies) * 3, 4)  \n",
    "        })"
   ]
  },
  {
   "cell_type": "code",
   "execution_count": 19,
   "id": "debe662e-85c4-41dd-8556-a22b9936c86a",
   "metadata": {},
   "outputs": [],
   "source": [
    "# Create human genes and orthology relationships\n",
    "human_genes = {}\n",
    "ortholog_rels = []\n",
    "\n",
    "for gene in mgenes:\n",
    "    gene_id = gene[\"identifier\"]\n",
    "    taxonomy = gene[\"taxonomy\"]\n",
    "    human_mapping = GENE_MAPPINGS.get(taxonomy, {}).get(gene_id, {})\n",
    "    \n",
    "    if human_mapping and \"human_entrez_id\" in human_mapping:\n",
    "        h_id = human_mapping[\"human_entrez_id\"]\n",
    "        human_genes[h_id] = {\n",
    "            \"identifier\": h_id,\n",
    "            \"name\": human_mapping[\"human_symbol\"],\n",
    "            \"function\": human_mapping.get(\"function\", \"\")\n",
    "        }\n",
    "        \n",
    "        ortholog_rels.append({\n",
    "            \"from\": gene_id,\n",
    "            \"to\": h_id\n",
    "        })\n",
    "\n"
   ]
  },
  {
   "cell_type": "code",
   "execution_count": 25,
   "id": "98396353-4483-40c3-b5f7-e27d03799f8b",
   "metadata": {},
   "outputs": [
    {
     "name": "stderr",
     "output_type": "stream",
     "text": [
      "2025-05-04 18:50:12,375 - INFO - Saved 9 rows to C:\\Users\\QUCOON\\Documents\\Chisom_Personal_Doc\\NASA_KnowHax_2025\\knowledge_graph\\v0.0.1\\nodes\\MGene.csv\n",
      "2025-05-04 18:50:12,381 - INFO - Saved 3 rows to C:\\Users\\QUCOON\\Documents\\Chisom_Personal_Doc\\NASA_KnowHax_2025\\knowledge_graph\\v0.0.1\\nodes\\Gene.csv\n",
      "2025-05-04 18:50:12,387 - INFO - Saved 9 rows to C:\\Users\\QUCOON\\Documents\\Chisom_Personal_Doc\\NASA_KnowHax_2025\\knowledge_graph\\v0.0.1\\rels\\MGene-IS_ORTHOLOG_MGiG-Gene.csv\n"
     ]
    },
    {
     "name": "stdout",
     "output_type": "stream",
     "text": [
      "Base Directory: C:\\Users\\QUCOON\\Documents\\Chisom_Personal_Doc\\NASA_KnowHax_2025\n",
      "Knowledge Graph Directory: C:\\Users\\QUCOON\\Documents\\Chisom_Personal_Doc\\NASA_KnowHax_2025\\knowledge_graph\n",
      "Version Directory: C:\\Users\\QUCOON\\Documents\\Chisom_Personal_Doc\\NASA_KnowHax_2025\\knowledge_graph\\v0.0.1\n",
      "Nodes Directory: C:\\Users\\QUCOON\\Documents\\Chisom_Personal_Doc\\NASA_KnowHax_2025\\knowledge_graph\\v0.0.1\\nodes\n",
      "Relationships Directory: C:\\Users\\QUCOON\\Documents\\Chisom_Personal_Doc\\NASA_KnowHax_2025\\knowledge_graph\\v0.0.1\\rels\n"
     ]
    }
   ],
   "source": [
    "\"\"\"# Save gene nodes and orthology relationships\n",
    "pd.DataFrame(mgenes).to_csv(os.path.join(dirs[\"nodes\"], \"MGene.csv\"), index=False)\n",
    "pd.DataFrame(list(human_genes.values())).to_csv(os.path.join(dirs[\"nodes\"], \"Gene.csv\"), index=False)\n",
    "pd.DataFrame(ortholog_rels).to_csv(os.path.join(dirs[\"relationship\"], \"MGene-IS_ORTHOLOG_MGiG-Gene.csv\"), index=False\"\"\"\n",
    "\n",
    "dirs = kg_utils.setup_directories()\n",
    "kg_utils.save_dataframe(pd.DataFrame(mgenes), os.path.join(dirs[\"nodes\"], \"MGene.csv\"))\n",
    "kg_utils.save_dataframe(pd.DataFrame(list(human_genes.values())), os.path.join(dirs[\"nodes\"], \"Gene.csv\"))\n",
    "kg_utils.save_dataframe(pd.DataFrame(ortholog_rels), os.path.join(dirs[\"rels\"], \"MGene-IS_ORTHOLOG_MGiG-Gene.csv\"))\n"
   ]
  },
  {
   "cell_type": "code",
   "execution_count": null,
   "id": "083388db-345a-46df-ac1b-e72056a56d68",
   "metadata": {},
   "outputs": [],
   "source": []
  }
 ],
 "metadata": {
  "kernelspec": {
   "display_name": "Python [conda env:base] *",
   "language": "python",
   "name": "conda-base-py"
  },
  "language_info": {
   "codemirror_mode": {
    "name": "ipython",
    "version": 3
   },
   "file_extension": ".py",
   "mimetype": "text/x-python",
   "name": "python",
   "nbconvert_exporter": "python",
   "pygments_lexer": "ipython3",
   "version": "3.12.3"
  }
 },
 "nbformat": 4,
 "nbformat_minor": 5
}
