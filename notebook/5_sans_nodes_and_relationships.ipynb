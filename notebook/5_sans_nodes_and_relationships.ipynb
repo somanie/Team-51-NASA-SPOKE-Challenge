{
 "cells": [
  {
   "cell_type": "markdown",
   "id": "4de1229f-6526-467a-b90c-d1b0fe5f3675",
   "metadata": {},
   "source": [
    "## 🧪 Create SANS Nodes & Relationships\n",
    "This notebook processes the dataset manifest, extracting SANS-related metadata and mapping tissues/cells to UBERON/Cell Ontology. It generates Neo4j CSVs for SANS nodes and their relationships to studies, anatomy, cell types, genes, and methylation regions using ontology_mapper.\n",
    "\n",
    "Author: Chisom Aniekwensi (sommaniekwensi@gmail.com)"
   ]
  },
  {
   "cell_type": "code",
   "execution_count": 61,
   "id": "f534d8d9-0e35-40e3-8cb6-7a8a6e29cc9b",
   "metadata": {},
   "outputs": [],
   "source": [
    "import pandas as pd\n",
    "import numpy as np\n",
    "import random\n",
    "import pickle\n",
    "import os\n",
    "import kg_utils\n",
    "import logging\n",
    "import scipy.stats as stats  # Make sure to import scipy.stats"
   ]
  },
  {
   "cell_type": "code",
   "execution_count": 63,
   "id": "fbe511ea-51b2-4e21-b5f5-59698bd1d5dc",
   "metadata": {},
   "outputs": [
    {
     "name": "stdout",
     "output_type": "stream",
     "text": [
      "Base Directory: C:\\Users\\QUCOON\\Documents\\Chisom_Personal_Doc\\NASA_KnowHax_2025\n",
      "Knowledge Graph Directory: C:\\Users\\QUCOON\\Documents\\Chisom_Personal_Doc\\NASA_KnowHax_2025\\knowledge_graph\n",
      "Version Directory: C:\\Users\\QUCOON\\Documents\\Chisom_Personal_Doc\\NASA_KnowHax_2025\\knowledge_graph\\v0.0.1\n",
      "Nodes Directory: C:\\Users\\QUCOON\\Documents\\Chisom_Personal_Doc\\NASA_KnowHax_2025\\knowledge_graph\\v0.0.1\\nodes\n",
      "Relationships Directory: C:\\Users\\QUCOON\\Documents\\Chisom_Personal_Doc\\NASA_KnowHax_2025\\knowledge_graph\\v0.0.1\\rels\n"
     ]
    }
   ],
   "source": [
    "# Setup logging\n",
    "logging.basicConfig(level=logging.INFO, format='%(asctime)s - %(levelname)s - %(message)s',\n",
    "                   handlers=[logging.FileHandler(\"nasa_kg.log\"), logging.StreamHandler()])\n",
    "logger = logging.getLogger(\"nasa_kg\")\n",
    "\n",
    "# Get directories\n",
    "dirs = kg_utils.setup_directories()"
   ]
  },
  {
   "cell_type": "code",
   "execution_count": 65,
   "id": "c377dce0-b0c5-4ec5-b158-ebdc4c6e8d7e",
   "metadata": {},
   "outputs": [
    {
     "name": "stderr",
     "output_type": "stream",
     "text": [
      "2025-05-04 19:38:09,102 - INFO - Loaded 15 findings, 9 biomarkers, and 9 environmental factors\n"
     ]
    }
   ],
   "source": [
    "# Load SANS data from CSV files\n",
    "try:\n",
    "    findings_df = pd.read_csv(os.path.join(dirs[\"nodes\"], \"ClinicalFinding.csv\"))\n",
    "    biomarkers_df = pd.read_csv(os.path.join(dirs[\"nodes\"], \"Biomarker.csv\"))\n",
    "    env_factors_df = pd.read_csv(os.path.join(dirs[\"nodes\"], \"EnvironmentalFactor.csv\"))\n",
    "    \n",
    "    findings = findings_df.to_dict('records')\n",
    "    biomarkers = biomarkers_df.to_dict('records')\n",
    "    env_factors = env_factors_df.to_dict('records')\n",
    "    logger.info(f\"Loaded {len(findings)} findings, {len(biomarkers)} biomarkers, and {len(env_factors)} environmental factors\")\n",
    "except FileNotFoundError:\n",
    "    logger.warning(\"One or more SANS data files not found - creating empty lists\")\n",
    "    findings = []\n",
    "    biomarkers = []\n",
    "    env_factors = []"
   ]
  },
  {
   "cell_type": "code",
   "execution_count": 67,
   "id": "8ed1f17c-473b-4163-b3c6-39f09ccd9dc0",
   "metadata": {},
   "outputs": [
    {
     "name": "stderr",
     "output_type": "stream",
     "text": [
      "2025-05-04 19:38:12,585 - INFO - Loaded 3 studies\n"
     ]
    }
   ],
   "source": [
    "# Load studies from CSV\n",
    "studies_df = pd.read_csv(os.path.join(dirs[\"nodes\"], \"Study.csv\"))\n",
    "studies = studies_df.to_dict('records')\n",
    "logger.info(f\"Loaded {len(studies)} studies\")"
   ]
  },
  {
   "cell_type": "code",
   "execution_count": 69,
   "id": "9b7a1e8a-5b93-4fff-9a42-a91cc33df29d",
   "metadata": {},
   "outputs": [],
   "source": [
    "# SANS imaging assays with detailed metadata\n",
    "IMAGING_ASSAYS = [\n",
    "    {\"name\": \"Optical Coherence Tomography\", \"abbrev\": \"OCT\", \"targets\": [\"eye\", \"retina\"], \n",
    "     \"description\": \"Non-invasive imaging technique using light waves\", \"resolution\": \"5-10 μm\"},\n",
    "    {\"name\": \"Magnetic Resonance Imaging\", \"abbrev\": \"MRI\", \"targets\": [\"brain\"], \n",
    "     \"description\": \"Uses magnetic fields to generate images\", \"resolution\": \"1-2 mm\"},\n",
    "    {\"name\": \"Tonometry\", \"abbrev\": \"IOP\", \"targets\": [\"eye\"], \n",
    "     \"description\": \"Measures intraocular pressure\", \"resolution\": \"1 mmHg\"}\n",
    "]"
   ]
  },
  {
   "cell_type": "code",
   "execution_count": 71,
   "id": "bcffa56b-1f6e-45bf-8364-8350d02c44f5",
   "metadata": {},
   "outputs": [],
   "source": [
    "# Anatomical structure mappings with ontology IDs\n",
    "ANATOMY = {\n",
    "    \"eye\": {\"identifier\": \"UBERON:0000970\", \"name\": \"eye\", \"description\": \"Organ of vision\"},\n",
    "    \"brain\": {\"identifier\": \"UBERON:0000955\", \"name\": \"brain\", \"description\": \"Central nervous system organ\"},\n",
    "    \"retina\": {\"identifier\": \"UBERON:0000966\", \"name\": \"retina\", \"description\": \"Light-sensitive tissue\"}\n",
    "}"
   ]
  },
  {
   "cell_type": "code",
   "execution_count": 73,
   "id": "1c5e3358-1c44-4908-91f3-3f70f9b68b01",
   "metadata": {},
   "outputs": [],
   "source": [
    "# Create assays with proper metadata\n",
    "assays = []\n",
    "measurements = []"
   ]
  },
  {
   "cell_type": "code",
   "execution_count": 75,
   "id": "132ec540-d314-4cde-8573-b1c40442ca4f",
   "metadata": {},
   "outputs": [],
   "source": [
    "for study in studies:\n",
    "    for assay_info in IMAGING_ASSAYS:\n",
    "        assay_id = f\"{study['identifier']}_{assay_info['abbrev'].lower()}\"\n",
    "        assay = {\n",
    "            \"identifier\": assay_id,\n",
    "            \"name\": assay_info[\"name\"],\n",
    "            \"description\": assay_info[\"description\"],\n",
    "            \"resolution\": assay_info[\"resolution\"],\n",
    "            \"type\": \"non-omics\",\n",
    "            \"category\": \"SANS\"\n",
    "        }\n",
    "        \n",
    "        # Add targets\n",
    "        for target in assay_info[\"targets\"]:\n",
    "            target_id = ANATOMY[target][\"identifier\"]\n",
    "            assay[f\"target_{target}_id\"] = target_id\n",
    "            \n",
    "            # Add measurements for specific targets\n",
    "            if assay_info[\"abbrev\"] == \"OCT\" and target == \"retina\":\n",
    "                measurements.append({\n",
    "                    \"identifier\": f\"{assay_id}_retinal_thickness\",\n",
    "                    \"name\": \"Retinal Thickness\",\n",
    "                    \"value\": f\"{round(np.random.normal(250, 20), 1)} μm\",\n",
    "                    \"reference_range\": \"200-300 μm\",\n",
    "                    \"assay_id\": assay_id,\n",
    "                    \"target_id\": target_id\n",
    "                })\n",
    "        \n",
    "        assays.append(assay)"
   ]
  },
  {
   "cell_type": "code",
   "execution_count": 77,
   "id": "5f4a3362-2097-4ecc-8015-859bbbb0eeec",
   "metadata": {},
   "outputs": [],
   "source": [
    "# 1. Mission-Study relationships\n",
    "mission_study_rels = []\n",
    "for study in studies:\n",
    "    mission_study_rels.append({\n",
    "        \"from\": study[\"mission_id\"],\n",
    "        \"to\": study[\"identifier\"]\n",
    "    })"
   ]
  },
  {
   "cell_type": "code",
   "execution_count": 79,
   "id": "c68178c6-65a9-4624-9c02-da1fb754d03e",
   "metadata": {},
   "outputs": [],
   "source": [
    "# 2. Study-Assay relationships\n",
    "study_assay_rels = []\n",
    "for assay in assays:\n",
    "    study_id = assay[\"identifier\"].split(\"_\")[0]\n",
    "    study_assay_rels.append({\n",
    "        \"from\": study_id,\n",
    "        \"to\": assay[\"identifier\"]\n",
    "    })"
   ]
  },
  {
   "cell_type": "code",
   "execution_count": 81,
   "id": "dd1012ff-70a7-4eff-9a20-5e14a3b091ef",
   "metadata": {},
   "outputs": [],
   "source": [
    "# 3. Assay-Anatomy relationships\n",
    "assay_anatomy_rels = []\n",
    "for assay in assays:\n",
    "    for key, value in assay.items():\n",
    "        if key.startswith(\"target_\") and key.endswith(\"_id\"):\n",
    "            assay_anatomy_rels.append({\n",
    "                \"from\": assay[\"identifier\"],\n",
    "                \"to\": value\n",
    "            })"
   ]
  },
  {
   "cell_type": "code",
   "execution_count": 83,
   "id": "da4d2e1c-294d-42c0-8047-c79a1d05d0c5",
   "metadata": {},
   "outputs": [],
   "source": [
    "# 4. Study-Finding relationships with proper data types\n",
    "study_finding_rels = []\n",
    "if findings:\n",
    "    for finding in findings:\n",
    "        study_id = finding[\"identifier\"].split(\"_\")[0]\n",
    "        study_finding_rels.append({\n",
    "            \"from\": study_id,  # string: GeneLab Data System ID\n",
    "            \"to\": finding[\"identifier\"],  # string: Finding identifier\n",
    "            \"effect_size\": float(finding.get(\"effect_size\", 0)),  # float: Effect size\n",
    "            \"p_value\": float(finding.get(\"p_value\", 0.05))  # float: Statistical p-value\n",
    "        })"
   ]
  },
  {
   "cell_type": "code",
   "execution_count": 85,
   "id": "87028474-9c52-4189-8630-6bd4f3726c62",
   "metadata": {},
   "outputs": [],
   "source": [
    "# 5. Study-Biomarker relationships with proper data types\n",
    "study_biomarker_rels = []\n",
    "if biomarkers:\n",
    "    for biomarker in biomarkers:\n",
    "        study_id = biomarker[\"identifier\"].split(\"_\")[0]\n",
    "        study_biomarker_rels.append({\n",
    "            \"from\": study_id,  # string: GeneLab Data System ID\n",
    "            \"to\": biomarker[\"identifier\"],  # string: Biomarker identifier\n",
    "            \"fold_change\": float(biomarker.get(\"fold_change\", 1)),  # float: Fold change value\n",
    "            \"p_value\": float(biomarker.get(\"p_value\", 0.05))  # float: Statistical p-value\n",
    "        })"
   ]
  },
  {
   "cell_type": "code",
   "execution_count": 87,
   "id": "4a80d2cb-d9ae-4051-b9fa-ddba514a0d2f",
   "metadata": {},
   "outputs": [],
   "source": [
    "# 6. Study-EnvFactor relationships with proper data types\n",
    "study_envfactor_rels = []\n",
    "if env_factors:\n",
    "    for env_factor in env_factors:\n",
    "        study_id = env_factor[\"identifier\"].split(\"_\")[0]\n",
    "        study_envfactor_rels.append({\n",
    "            \"from\": study_id,  # string: GeneLab Data System ID\n",
    "            \"to\": env_factor[\"identifier\"],  # string: Environmental factor identifier\n",
    "            \"odds_ratio\": float(env_factor.get(\"odds_ratio\", 1))  # float: Odds ratio value\n",
    "        })"
   ]
  },
  {
   "cell_type": "code",
   "execution_count": 89,
   "id": "6522701f-9283-4235-bb94-33b341ba153f",
   "metadata": {},
   "outputs": [
    {
     "name": "stderr",
     "output_type": "stream",
     "text": [
      "2025-05-04 19:40:05,793 - INFO - Saved 9 rows to C:\\Users\\QUCOON\\Documents\\Chisom_Personal_Doc\\NASA_KnowHax_2025\\knowledge_graph\\v0.0.1\\nodes\\Assay.csv\n",
      "2025-05-04 19:40:05,800 - INFO - Saved 3 rows to C:\\Users\\QUCOON\\Documents\\Chisom_Personal_Doc\\NASA_KnowHax_2025\\knowledge_graph\\v0.0.1\\nodes\\Anatomy.csv\n",
      "2025-05-04 19:40:05,806 - INFO - Saved 3 rows to C:\\Users\\QUCOON\\Documents\\Chisom_Personal_Doc\\NASA_KnowHax_2025\\knowledge_graph\\v0.0.1\\nodes\\Measurement.csv\n"
     ]
    }
   ],
   "source": [
    "# Save assay and anatomy nodes\n",
    "kg_utils.save_dataframe(pd.DataFrame(assays), os.path.join(dirs[\"nodes\"], \"Assay.csv\"))\n",
    "kg_utils.save_dataframe(pd.DataFrame(list(ANATOMY.values())), os.path.join(dirs[\"nodes\"], \"Anatomy.csv\"))\n",
    "kg_utils.save_dataframe(pd.DataFrame(measurements), os.path.join(dirs[\"nodes\"], \"Measurement.csv\"))"
   ]
  },
  {
   "cell_type": "code",
   "execution_count": 91,
   "id": "50bb6710-b1e1-4068-9111-4002bb2887d1",
   "metadata": {},
   "outputs": [
    {
     "name": "stderr",
     "output_type": "stream",
     "text": [
      "2025-05-04 19:40:08,428 - INFO - Saved 3 rows to C:\\Users\\QUCOON\\Documents\\Chisom_Personal_Doc\\NASA_KnowHax_2025\\knowledge_graph\\v0.0.1\\rels\\Mission-CONDUCTED_MICS-Study.csv\n",
      "2025-05-04 19:40:08,436 - INFO - Saved 9 rows to C:\\Users\\QUCOON\\Documents\\Chisom_Personal_Doc\\NASA_KnowHax_2025\\knowledge_graph\\v0.0.1\\rels\\Study-PERFORMED_SpAS-Assay.csv\n",
      "2025-05-04 19:40:08,442 - INFO - Saved 12 rows to C:\\Users\\QUCOON\\Documents\\Chisom_Personal_Doc\\NASA_KnowHax_2025\\knowledge_graph\\v0.0.1\\rels\\Assay-INVESTIGATED_ASiA-Anatomy.csv\n"
     ]
    }
   ],
   "source": [
    "# Save all relationship files\n",
    "kg_utils.save_dataframe(pd.DataFrame(mission_study_rels), os.path.join(dirs[\"rels\"], \"Mission-CONDUCTED_MICS-Study.csv\"))\n",
    "kg_utils.save_dataframe(pd.DataFrame(study_assay_rels), os.path.join(dirs[\"rels\"], \"Study-PERFORMED_SpAS-Assay.csv\"))\n",
    "kg_utils.save_dataframe(pd.DataFrame(assay_anatomy_rels), os.path.join(dirs[\"rels\"], \"Assay-INVESTIGATED_ASiA-Anatomy.csv\"))"
   ]
  },
  {
   "cell_type": "code",
   "execution_count": 93,
   "id": "6c789c11-9992-437c-a652-c86bc9c49336",
   "metadata": {},
   "outputs": [
    {
     "name": "stderr",
     "output_type": "stream",
     "text": [
      "2025-05-04 19:40:09,893 - INFO - Saved 15 rows to C:\\Users\\QUCOON\\Documents\\Chisom_Personal_Doc\\NASA_KnowHax_2025\\knowledge_graph\\v0.0.1\\rels\\Study-EXHIBITED_SeC-ClinicalFinding.csv\n",
      "2025-05-04 19:40:09,898 - INFO - Saved 9 rows to C:\\Users\\QUCOON\\Documents\\Chisom_Personal_Doc\\NASA_KnowHax_2025\\knowledge_graph\\v0.0.1\\rels\\Study-EXHIBITED_SeB-Biomarker.csv\n",
      "2025-05-04 19:40:09,904 - INFO - Saved 9 rows to C:\\Users\\QUCOON\\Documents\\Chisom_Personal_Doc\\NASA_KnowHax_2025\\knowledge_graph\\v0.0.1\\rels\\Study-EXPOSED_TO_SeE-EnvironmentalFactor.csv\n"
     ]
    }
   ],
   "source": [
    "# Only save relationships if there's data\n",
    "if study_finding_rels:\n",
    "    kg_utils.save_dataframe(pd.DataFrame(study_finding_rels), os.path.join(dirs[\"rels\"], \"Study-EXHIBITED_SeC-ClinicalFinding.csv\"))\n",
    "if study_biomarker_rels:\n",
    "    kg_utils.save_dataframe(pd.DataFrame(study_biomarker_rels), os.path.join(dirs[\"rels\"], \"Study-EXHIBITED_SeB-Biomarker.csv\"))\n",
    "if study_envfactor_rels:\n",
    "    kg_utils.save_dataframe(pd.DataFrame(study_envfactor_rels), os.path.join(dirs[\"rels\"], \"Study-EXPOSED_TO_SeE-EnvironmentalFactor.csv\"))"
   ]
  },
  {
   "cell_type": "code",
   "execution_count": 95,
   "id": "d54623d8-0743-4990-87a9-d85ef63adbfd",
   "metadata": {},
   "outputs": [
    {
     "name": "stderr",
     "output_type": "stream",
     "text": [
      "2025-05-04 19:40:12,338 - INFO - All assay nodes and relationships created successfully\n"
     ]
    },
    {
     "name": "stdout",
     "output_type": "stream",
     "text": [
      "\n",
      "Knowledge Graph build complete!\n",
      "Files created in: C:\\Users\\QUCOON\\Documents\\Chisom_Personal_Doc\\NASA_KnowHax_2025\\knowledge_graph\\v0.0.1\n"
     ]
    }
   ],
   "source": [
    "logger.info(\"All assay nodes and relationships created successfully\")\n",
    "print(\"\\nKnowledge Graph build complete!\")\n",
    "print(f\"Files created in: {os.path.abspath(dirs['version'])}\")"
   ]
  },
  {
   "cell_type": "code",
   "execution_count": null,
   "id": "03868052-335e-4ab3-9623-0ed790e484e6",
   "metadata": {},
   "outputs": [],
   "source": []
  }
 ],
 "metadata": {
  "kernelspec": {
   "display_name": "Python [conda env:base] *",
   "language": "python",
   "name": "conda-base-py"
  },
  "language_info": {
   "codemirror_mode": {
    "name": "ipython",
    "version": 3
   },
   "file_extension": ".py",
   "mimetype": "text/x-python",
   "name": "python",
   "nbconvert_exporter": "python",
   "pygments_lexer": "ipython3",
   "version": "3.12.3"
  }
 },
 "nbformat": 4,
 "nbformat_minor": 5
}
