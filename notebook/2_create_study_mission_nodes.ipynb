{
 "cells": [
  {
   "cell_type": "markdown",
   "id": "43bb1ad8-80a5-4aad-a516-48e127f0389f",
   "metadata": {},
   "source": [
    "## 🧪 Create Assay Nodes & Relationships\n",
    "\n",
    "This notebook reads the dataset manifest, extracts assay and material metadata, maps tissues/cells to UBERON/Cell Ontology, and writes Neo4j CSVs for assay nodes and their relationships to studies, anatomy, cell types, genes, and methylation regions using ontology_mapper.\n",
    "\n",
    "Author: Chisom Aniekwensi (sommaniekwensi@gmail.com)"
   ]
  },
  {
   "cell_type": "code",
   "execution_count": 22,
   "id": "2aa77a6f-efe1-44e7-b3c9-686e79869b2f",
   "metadata": {},
   "outputs": [],
   "source": [
    "import pandas as pd\n",
    "import os\n",
    "import logging\n",
    "import pickle\n",
    "import kg_utils\n",
    "import time\n",
    "from pathlib import Path\n",
    "from typing import Dict, List"
   ]
  },
  {
   "cell_type": "code",
   "execution_count": 3,
   "id": "ac8449bf-7563-4a9d-b7b8-3abf931875aa",
   "metadata": {},
   "outputs": [],
   "source": [
    "# Setup logging\n",
    "logging.basicConfig(level=logging.INFO, format='%(asctime)s - %(levelname)s - %(message)s',\n",
    "                   handlers=[logging.FileHandler(\"nasa_kg.log\"), logging.StreamHandler()])\n",
    "logger = logging.getLogger(\"nasa_kg\")\n"
   ]
  },
  {
   "cell_type": "code",
   "execution_count": 5,
   "id": "4acc2f68-e5fc-4d2b-b103-41e012e09ab6",
   "metadata": {},
   "outputs": [
    {
     "name": "stdout",
     "output_type": "stream",
     "text": [
      "Base Directory: C:\\Users\\QUCOON\\Documents\\Chisom_Personal_Doc\\NASA_KnowHax_2025\n",
      "Knowledge Graph Directory: C:\\Users\\QUCOON\\Documents\\Chisom_Personal_Doc\\NASA_KnowHax_2025\\knowledge_graph\n",
      "Version Directory: C:\\Users\\QUCOON\\Documents\\Chisom_Personal_Doc\\NASA_KnowHax_2025\\knowledge_graph\\v0.0.1\n",
      "Nodes Directory: C:\\Users\\QUCOON\\Documents\\Chisom_Personal_Doc\\NASA_KnowHax_2025\\knowledge_graph\\v0.0.1\\nodes\n",
      "Relationships Directory: C:\\Users\\QUCOON\\Documents\\Chisom_Personal_Doc\\NASA_KnowHax_2025\\knowledge_graph\\v0.0.1\\rels\n"
     ]
    }
   ],
   "source": [
    "# Load the utilities\n",
    "with open('kg_utils.pkl', 'rb') as f:\n",
    "    kg_utils = pickle.load(f)\n",
    "\n",
    "# Set up directories\n",
    "directories = kg_utils[\"setup_directories\"]()"
   ]
  },
  {
   "cell_type": "code",
   "execution_count": 7,
   "id": "63f3ed3b-4ba9-4c23-9ab8-32694a040b9e",
   "metadata": {},
   "outputs": [],
   "source": [
    "# function to save dataframe to a CSV file in the specified directory\n",
    "\n",
    "def save_dataframe(df, filename, directory):\n",
    "    os.makedirs(directory, exist_ok=True)\n",
    "    file_path = os.path.join(directory, filename)\n",
    "    try:\n",
    "        df.to_csv(file_path, index=False)\n",
    "        logger.info(f\"Saved {len(df)} rows to {file_path}\")\n",
    "    except PermissionError:\n",
    "        # Fall back to a directory we definitely have access to\n",
    "        backup_dir = os.path.join(os.getcwd(), \"backup_data\")\n",
    "        os.makedirs(backup_dir, exist_ok=True)\n",
    "        backup_path = os.path.join(backup_dir, filename)\n",
    "        df.to_csv(backup_path, index=False)\n",
    "        logger.warning(f\"Permission denied at {file_path}. Saved to {backup_path} instead.\")\n",
    "    return df"
   ]
  },
  {
   "cell_type": "code",
   "execution_count": 9,
   "id": "87d41216-f2f3-406e-9f9d-075c52fa0aa1",
   "metadata": {},
   "outputs": [],
   "source": [
    "# Statistical calculation function\n",
    "def calculate_statistics(value1, value2, method=\"t-test\"):\n",
    "    if method == \"t-test\":\n",
    "        t_stat, p_value = stats.ttest_ind(value1, value2)\n",
    "        effect_size = abs(np.mean(value1) - np.mean(value2)) / np.std(np.concatenate([value1, value2]))\n",
    "        return {\"t_statistic\": round(t_stat, 3), \"p_value\": round(p_value, 4), \"effect_size\": round(effect_size, 2)}\n",
    "    elif method == \"fold_change\":\n",
    "        fold_change = np.mean(value1) / np.mean(value2) if np.mean(value2) != 0 else 1.0\n",
    "        return {\"fold_change\": round(fold_change, 2), \"log2fc\": round(np.log2(fold_change), 2)}\n",
    "    return {}"
   ]
  },
  {
   "cell_type": "code",
   "execution_count": 11,
   "id": "c40e52b0-f4d5-46bd-b312-3cc0edb3d926",
   "metadata": {},
   "outputs": [],
   "source": [
    "# Create Study nodes with proper column headers\n",
    "studies = [\n",
    "    {\"identifier\": \"OSD-557\", \"name\": \"SANS Eye Structure Study\", \"organism\": \"Mus musculus\", \n",
    "     \"description\": \"Analysis of eye structures in spaceflight\", \"taxonomy\": \"10090\",\n",
    "     \"data_types\": \"imaging,clinical\", \"mission_id\": \"RR9\"},\n",
    "    {\"identifier\": \"OSD-568\", \"name\": \"SANS Retina Analysis\", \"organism\": \"Mus musculus\", \n",
    "     \"description\": \"Retinal thickness measurements\", \"taxonomy\": \"10090\",\n",
    "     \"data_types\": \"imaging,clinical\", \"mission_id\": \"RR9\"},\n",
    "    {\"identifier\": \"OSD-679\", \"name\": \"IOP and OCT Assessments\", \"organism\": \"Mus musculus\", \n",
    "     \"description\": \"Intraocular pressure measurements\", \"taxonomy\": \"10090\",\n",
    "     \"data_types\": \"imaging,clinical,biomarker\", \"mission_id\": \"HLU\"}\n",
    "]"
   ]
  },
  {
   "cell_type": "code",
   "execution_count": 13,
   "id": "c5953eae-4dc3-459f-8cf7-092512fd6b96",
   "metadata": {},
   "outputs": [],
   "source": [
    "# Create Mission nodes with proper column headers\n",
    "missions = [\n",
    "    {\"identifier\": \"RR9\", \"name\": \"Rodent Research 9\", \n",
    "     \"description\": \"Investigation of spaceflight effects on rodent physiology\", \n",
    "     \"duration_days\": 35, \"organization\": \"NASA\"},\n",
    "    {\"identifier\": \"HLU\", \"name\": \"Hindlimb Unloading Experiment\", \n",
    "     \"description\": \"Ground-based analog for spaceflight effects\", \n",
    "     \"duration_days\": 28, \"organization\": \"NASA\"}\n",
    "]"
   ]
  },
  {
   "cell_type": "code",
   "execution_count": 24,
   "id": "3c200b72-390c-4e41-b906-4e91965b50e2",
   "metadata": {},
   "outputs": [
    {
     "name": "stderr",
     "output_type": "stream",
     "text": [
      "2025-05-04 18:41:24,035 - INFO - Saved 3 rows to C:\\Users\\QUCOON\\Documents\\Chisom_Personal_Doc\\NASA_KnowHax_2025\\knowledge_graph\\v0.0.1\\nodes\\Study.csv\n",
      "2025-05-04 18:41:24,043 - INFO - Saved 2 rows to C:\\Users\\QUCOON\\Documents\\Chisom_Personal_Doc\\NASA_KnowHax_2025\\knowledge_graph\\v0.0.1\\nodes\\Mission.csv\n"
     ]
    },
    {
     "name": "stdout",
     "output_type": "stream",
     "text": [
      "Base Directory: C:\\Users\\QUCOON\\Documents\\Chisom_Personal_Doc\\NASA_KnowHax_2025\n",
      "Knowledge Graph Directory: C:\\Users\\QUCOON\\Documents\\Chisom_Personal_Doc\\NASA_KnowHax_2025\\knowledge_graph\n",
      "Version Directory: C:\\Users\\QUCOON\\Documents\\Chisom_Personal_Doc\\NASA_KnowHax_2025\\knowledge_graph\\v0.0.1\n",
      "Nodes Directory: C:\\Users\\QUCOON\\Documents\\Chisom_Personal_Doc\\NASA_KnowHax_2025\\knowledge_graph\\v0.0.1\\nodes\n",
      "Relationships Directory: C:\\Users\\QUCOON\\Documents\\Chisom_Personal_Doc\\NASA_KnowHax_2025\\knowledge_graph\\v0.0.1\\rels\n"
     ]
    }
   ],
   "source": [
    "# Call functions as module methods\n",
    "dirs = kg_utils.setup_directories()\n",
    "kg_utils.save_dataframe(pd.DataFrame(studies), os.path.join(dirs[\"nodes\"], \"Study.csv\"))\n",
    "kg_utils.save_dataframe(pd.DataFrame(missions), os.path.join(dirs[\"nodes\"], \"Mission.csv\"))"
   ]
  },
  {
   "cell_type": "code",
   "execution_count": 26,
   "id": "377d9ada-649d-454b-ac3f-a39ae1620084",
   "metadata": {},
   "outputs": [
    {
     "name": "stderr",
     "output_type": "stream",
     "text": [
      "2025-05-04 18:42:03,471 - INFO - Utilities saved and ready for use in other notebooks, Study and Mission nodes created successfully\n"
     ]
    }
   ],
   "source": [
    "# Save studies and missions for other notebooks\n",
    "with open('kg_study_data.pkl', 'wb') as f:\n",
    "    pickle.dump({\"studies\": studies, \"missions\": missions}, f)\n",
    "\n",
    "logger.info(\"Utilities saved and ready for use in other notebooks, Study and Mission nodes created successfully\")"
   ]
  },
  {
   "cell_type": "code",
   "execution_count": null,
   "id": "c005db44-89bc-4caa-9985-af3287a70bb8",
   "metadata": {},
   "outputs": [],
   "source": []
  }
 ],
 "metadata": {
  "kernelspec": {
   "display_name": "Python [conda env:base] *",
   "language": "python",
   "name": "conda-base-py"
  },
  "language_info": {
   "codemirror_mode": {
    "name": "ipython",
    "version": 3
   },
   "file_extension": ".py",
   "mimetype": "text/x-python",
   "name": "python",
   "nbconvert_exporter": "python",
   "pygments_lexer": "ipython3",
   "version": "3.12.3"
  }
 },
 "nbformat": 4,
 "nbformat_minor": 5
}
