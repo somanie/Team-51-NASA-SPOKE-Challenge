{
 "cells": [
  {
   "cell_type": "markdown",
   "id": "e5c78f56-f4b8-4236-9b63-cd38efe9ef81",
   "metadata": {},
   "source": [
    "## 🧿 Create SANS nodes\n",
    "This notebook processes the GeneLab datasets to build Neo4j node and relationship files for SANS \n",
    "\n",
    "Author: Chisom Aniekwensi (sommaniekwensi@gmail.com)"
   ]
  },
  {
   "cell_type": "code",
   "execution_count": 1,
   "id": "c27fc005-e287-4707-8a75-8d453024e70c",
   "metadata": {},
   "outputs": [
    {
     "name": "stdout",
     "output_type": "stream",
     "text": [
      "Successfully created kg_utils.pkl\n"
     ]
    }
   ],
   "source": [
    "import pandas as pd\n",
    "import numpy as np\n",
    "import random\n",
    "import os\n",
    "import kg_utils\n",
    "import logging\n",
    "import scipy.stats as stats  # Make sure to import scipy.stats"
   ]
  },
  {
   "cell_type": "code",
   "execution_count": 3,
   "id": "70717cb7-7b20-4c81-b085-dfb2721bc73a",
   "metadata": {},
   "outputs": [],
   "source": [
    "# Setup logging\n",
    "logging.basicConfig(level=logging.INFO, format='%(asctime)s - %(levelname)s - %(message)s',\n",
    "                   handlers=[logging.FileHandler(\"nasa_kg.log\"), logging.StreamHandler()])\n",
    "logger = logging.getLogger(\"nasa_kg\")\n",
    "\n",
    "utils = {\n",
    "    \"setup_directories\": kg_utils.setup_directories,\n",
    "    \"save_dataframe\": kg_utils.save_dataframe,\n",
    "    \"calculate_statistics\": kg_utils.calculate_statistics,\n",
    "    \"KG_VERSION\": kg_utils.KG_VERSION,\n",
    "    \"logger\": kg_utils.logger\n",
    "}"
   ]
  },
  {
   "cell_type": "code",
   "execution_count": 5,
   "id": "54264442-6466-4fb5-a443-1e5bc33f38ce",
   "metadata": {},
   "outputs": [],
   "source": [
    "# SANS data definitions\n",
    "SANS_DATA = {\n",
    "    \"clinical\": {\n",
    "        \"eye\": [\"optic_disc_edema\", \"chorioretinal_folds\", \"globe_flattening\"],\n",
    "        \"brain\": [\"gray_matter_reduction\", \"csf_volume_decrease\"]\n",
    "    },\n",
    "    \"biomarkers\": [\"homocysteine\", \"cystathionine\", \"methylcitric_acid\"],\n",
    "    \"environmental\": [\"co2\", \"radiation\", \"microgravity\"]\n",
    "}"
   ]
  },
  {
   "cell_type": "code",
   "execution_count": 7,
   "id": "ad952b4d-d542-45ea-9341-09fc6a30cae7",
   "metadata": {},
   "outputs": [],
   "source": [
    "# Load study data from pickle file\n",
    "import pickle\n",
    "with open('kg_study_data.pkl', 'rb') as f:\n",
    "    data = pickle.load(f)\n",
    "\n",
    "# Extract studies from data\n",
    "studies = data['studies']"
   ]
  },
  {
   "cell_type": "code",
   "execution_count": 9,
   "id": "5b0eefd4-06d1-4ccb-a6ed-316b92261cbd",
   "metadata": {},
   "outputs": [],
   "source": [
    "# Create clinical findings\n",
    "findings = []\n",
    "for study in studies:\n",
    "    for location, finding_list in SANS_DATA[\"clinical\"].items():\n",
    "        for finding in finding_list:\n",
    "            findings.append({\n",
    "                \"identifier\": f\"{study['identifier']}_{finding}\",\n",
    "                \"name\": finding.replace(\"_\", \" \").title(),\n",
    "                \"category\": location.title(),\n",
    "                \"effect_size\": round(random.uniform(0.1, 2.0), 2)\n",
    "            })"
   ]
  },
  {
   "cell_type": "code",
   "execution_count": 11,
   "id": "939f42cb-7cf4-4ac8-9655-5cc3925b55eb",
   "metadata": {},
   "outputs": [],
   "source": [
    "# Create biomarkers\n",
    "biomarkers = []\n",
    "for study in studies:\n",
    "    for marker in SANS_DATA[\"biomarkers\"]:\n",
    "        biomarkers.append({\n",
    "            \"identifier\": f\"{study['identifier']}_{marker}\",\n",
    "            \"name\": marker.replace(\"_\", \" \").title(),\n",
    "            \"category\": \"Biomarker\",\n",
    "            \"fold_change\": round(random.uniform(0.5, 3.0), 2)\n",
    "        })\n"
   ]
  },
  {
   "cell_type": "code",
   "execution_count": 13,
   "id": "00157c5b-d5be-421e-aee5-bc789784fcd4",
   "metadata": {},
   "outputs": [],
   "source": [
    "# Create environmental factors\n",
    "env_factors = []\n",
    "for study in studies:\n",
    "    for factor in SANS_DATA[\"environmental\"]:\n",
    "        env_factors.append({\n",
    "            \"identifier\": f\"{study['identifier']}_{factor}\",\n",
    "            \"name\": factor.replace(\"_\", \" \").title(),\n",
    "            \"category\": \"Environmental\",\n",
    "            \"odds_ratio\": round(random.uniform(1.1, 4.0), 2)\n",
    "        })"
   ]
  },
  {
   "cell_type": "code",
   "execution_count": 15,
   "id": "b7df5620-2ef3-46f1-8be7-e0347f503f86",
   "metadata": {},
   "outputs": [
    {
     "name": "stderr",
     "output_type": "stream",
     "text": [
      "2025-05-04 18:54:27,866 - INFO - Saved 15 rows to C:\\Users\\QUCOON\\Documents\\Chisom_Personal_Doc\\NASA_KnowHax_2025\\knowledge_graph\\v0.0.1\\nodes\\ClinicalFinding.csv\n",
      "2025-05-04 18:54:27,872 - INFO - Saved 9 rows to C:\\Users\\QUCOON\\Documents\\Chisom_Personal_Doc\\NASA_KnowHax_2025\\knowledge_graph\\v0.0.1\\nodes\\Biomarker.csv\n",
      "2025-05-04 18:54:27,880 - INFO - Saved 9 rows to C:\\Users\\QUCOON\\Documents\\Chisom_Personal_Doc\\NASA_KnowHax_2025\\knowledge_graph\\v0.0.1\\nodes\\EnvironmentalFactor.csv\n"
     ]
    },
    {
     "name": "stdout",
     "output_type": "stream",
     "text": [
      "Base Directory: C:\\Users\\QUCOON\\Documents\\Chisom_Personal_Doc\\NASA_KnowHax_2025\n",
      "Knowledge Graph Directory: C:\\Users\\QUCOON\\Documents\\Chisom_Personal_Doc\\NASA_KnowHax_2025\\knowledge_graph\n",
      "Version Directory: C:\\Users\\QUCOON\\Documents\\Chisom_Personal_Doc\\NASA_KnowHax_2025\\knowledge_graph\\v0.0.1\n",
      "Nodes Directory: C:\\Users\\QUCOON\\Documents\\Chisom_Personal_Doc\\NASA_KnowHax_2025\\knowledge_graph\\v0.0.1\\nodes\n",
      "Relationships Directory: C:\\Users\\QUCOON\\Documents\\Chisom_Personal_Doc\\NASA_KnowHax_2025\\knowledge_graph\\v0.0.1\\rels\n"
     ]
    }
   ],
   "source": [
    "# Save SANS-related node files\n",
    "dirs = kg_utils.setup_directories()\n",
    "kg_utils.save_dataframe(pd.DataFrame(findings), os.path.join(dirs[\"nodes\"], \"ClinicalFinding.csv\"))\n",
    "kg_utils.save_dataframe(pd.DataFrame(biomarkers), os.path.join(dirs[\"nodes\"], \"Biomarker.csv\"))\n",
    "kg_utils.save_dataframe(pd.DataFrame(env_factors), os.path.join(dirs[\"nodes\"], \"EnvironmentalFactor.csv\"))"
   ]
  },
  {
   "cell_type": "code",
   "execution_count": null,
   "id": "d35b5916-f2dd-4307-8979-499614c57c33",
   "metadata": {},
   "outputs": [],
   "source": []
  },
  {
   "cell_type": "code",
   "execution_count": null,
   "id": "d93daf33-3995-453a-a910-08c409ae9b46",
   "metadata": {},
   "outputs": [],
   "source": []
  }
 ],
 "metadata": {
  "kernelspec": {
   "display_name": "Python [conda env:base] *",
   "language": "python",
   "name": "conda-base-py"
  },
  "language_info": {
   "codemirror_mode": {
    "name": "ipython",
    "version": 3
   },
   "file_extension": ".py",
   "mimetype": "text/x-python",
   "name": "python",
   "nbconvert_exporter": "python",
   "pygments_lexer": "ipython3",
   "version": "3.12.3"
  }
 },
 "nbformat": 4,
 "nbformat_minor": 5
}
