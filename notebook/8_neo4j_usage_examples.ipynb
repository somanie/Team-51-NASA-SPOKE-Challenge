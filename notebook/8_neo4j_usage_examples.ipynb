{
 "cells": [
  {
   "cell_type": "code",
   "execution_count": 1,
   "id": "b67cc945-aadb-4367-b61f-38f15bb58efb",
   "metadata": {},
   "outputs": [],
   "source": [
    "import matplotlib.pyplot as plt\n",
    "import pandas as pd\n",
    "from py2neo import Graph"
   ]
  },
  {
   "cell_type": "code",
   "execution_count": 5,
   "id": "de01bf38-93f1-4d88-b45c-8ad58b7be12c",
   "metadata": {},
   "outputs": [
    {
     "ename": "ModuleNotFoundError",
     "evalue": "No module named 'SANS_Importer'",
     "output_type": "error",
     "traceback": [
      "\u001b[1;31m---------------------------------------------------------------------------\u001b[0m",
      "\u001b[1;31mModuleNotFoundError\u001b[0m                       Traceback (most recent call last)",
      "Cell \u001b[1;32mIn[5], line 4\u001b[0m\n\u001b[0;32m      1\u001b[0m \u001b[38;5;66;03m# This assumes you've already run the import notebooks above\u001b[39;00m\n\u001b[0;32m      2\u001b[0m \u001b[38;5;66;03m# If not, you can uncomment the minimal versions below\u001b[39;00m\n\u001b[1;32m----> 4\u001b[0m \u001b[38;5;28;01mfrom\u001b[39;00m\u001b[38;5;250m \u001b[39m\u001b[38;5;21;01mSANS_Importer\u001b[39;00m\u001b[38;5;250m \u001b[39m\u001b[38;5;28;01mimport\u001b[39;00m connect_to_neo4j, import_sans_kg\n\u001b[0;32m      5\u001b[0m \u001b[38;5;28;01mfrom\u001b[39;00m\u001b[38;5;250m \u001b[39m\u001b[38;5;21;01mSANS_Queries\u001b[39;00m\u001b[38;5;250m \u001b[39m\u001b[38;5;28;01mimport\u001b[39;00m query_clinical_findings, query_omics_data, visualize_study_network, compare_missions\n",
      "\u001b[1;31mModuleNotFoundError\u001b[0m: No module named 'SANS_Importer'"
     ]
    }
   ],
   "source": [
    "# This assumes you've already run the import notebooks above\n",
    "# If not, you can uncomment the minimal versions below\n",
    "\n",
    "from SANS_Importer import connect_to_neo4j, import_sans_kg\n",
    "from SANS_Queries import query_clinical_findings, query_omics_data, visualize_study_network, compare_missions\n"
   ]
  },
  {
   "cell_type": "code",
   "execution_count": 3,
   "id": "8859ecfc-be92-4ec7-9c5b-f54acdf8b0df",
   "metadata": {},
   "outputs": [],
   "source": [
    "# MAIN ANALYSIS WORKFLOW\n",
    "def analyze_sans_data():\n",
    "    \"\"\"Run a complete analysis of SANS data\"\"\"\n",
    "    print(\"NASA SANS Knowledge Graph Analysis\")\n",
    "    print(\"==================================\")\n",
    "    \n",
    "    # Step 1: Connect to Neo4j Desktop\n",
    "    graph = connect_to_neo4j(\"sans-genelab\")\n",
    "    if not graph:\n",
    "        return print(\"Exiting due to connection failure\")\n",
    "    \n",
    "    # Step 2: Analyze clinical findings (non-omics)\n",
    "    print(\"\\n1. Exploring Clinical Findings\")\n",
    "    \n",
    "    # Vision-related issues\n",
    "    vision_findings = query_clinical_findings(graph, search_term=\"vision\", limit=5)\n",
    "    print(\"Vision-related findings:\")\n",
    "    display(vision_findings)\n",
    "    \n",
    "    # Mission-specific findings\n",
    "    iss_findings = query_clinical_findings(graph, mission=\"ISS\", limit=5)\n",
    "    print(\"\\nISS mission findings:\")\n",
    "    display(iss_findings)\n",
    "    \n",
    "    # Step 3: Analyze omics data\n",
    "    print(\"\\n2. Exploring Omics Data\")\n",
    "    \n",
    "    # DNA damage genes\n",
    "    dna_genes = query_omics_data(graph, pathway=\"DNA damage\", limit=5)\n",
    "    print(\"Genes in DNA damage pathway:\")\n",
    "    display(dna_genes)\n",
    "    \n",
    "    # Specific gene\n",
    "    cdkn_data = query_omics_data(graph, gene_symbol=\"CDKN1A\", limit=5)\n",
    "    print(\"\\nCDKN1A expression across studies:\")\n",
    "    display(cdkn_data)\n",
    "    \n",
    "    # Step 4: Visualize data\n",
    "    print(\"\\n3. Generating Visualizations\")\n",
    "    \n",
    "    # Study network\n",
    "    print(\"Visualizing Twins Study network...\")\n",
    "    twins_fig = visualize_study_network(graph, \"NASA Twins Study\")\n",
    "    if isinstance(twins_fig, plt.Figure):\n",
    "        display(twins_fig)\n",
    "        twins_fig.savefig(\"twins_network.png\")\n",
    "    \n",
    "    # Mission comparison\n",
    "    print(\"\\nComparing missions...\")\n",
    "    mission_fig = compare_missions(graph, missions=[\"ISS\", \"Apollo\", \"Shuttle\"])\n",
    "    display(mission_fig)\n",
    "    mission_fig.savefig(\"mission_comparison.png\")\n",
    "    \n",
    "    # Step 5: Generate quick report\n",
    "    print(\"\\n4. Summary Report\")\n",
    "    \n",
    "    # Count nodes by type\n",
    "    node_counts = graph.run(\"\"\"\n",
    "    MATCH (n) \n",
    "    RETURN labels(n)[0] AS type, count(*) AS count \n",
    "    ORDER BY count DESC\n",
    "    \"\"\").to_data_frame()\n",
    "    \n",
    "    print(\"Database overview:\")\n",
    "    display(node_counts)\n",
    "    \n",
    "    # Top clinical findings overall\n",
    "    top_findings = graph.run(\"\"\"\n",
    "    MATCH (s:Study)-[r:EXHIBITED_SeC]->(c:ClinicalFinding)\n",
    "    WITH c.name AS finding, count(r) AS studies, avg(r.effect_size) AS effect\n",
    "    ORDER BY studies DESC, effect DESC\n",
    "    LIMIT 10\n",
    "    RETURN finding, studies, effect\n",
    "    \"\"\").to_data_frame()\n",
    "    \n",
    "    print(\"\\nTop clinical findings:\")\n",
    "    display(top_findings)\n",
    "    \n",
    "    print(\"\\nAnalysis complete!\")"
   ]
  },
  {
   "cell_type": "code",
   "execution_count": 4,
   "id": "16aa0388-8da5-4750-8189-188551f36e15",
   "metadata": {},
   "outputs": [
    {
     "name": "stdout",
     "output_type": "stream",
     "text": [
      "NASA SANS Knowledge Graph Analysis\n",
      "==================================\n"
     ]
    },
    {
     "ename": "NameError",
     "evalue": "name 'connect_to_neo4j' is not defined",
     "output_type": "error",
     "traceback": [
      "\u001b[1;31m---------------------------------------------------------------------------\u001b[0m",
      "\u001b[1;31mNameError\u001b[0m                                 Traceback (most recent call last)",
      "Cell \u001b[1;32mIn[4], line 3\u001b[0m\n\u001b[0;32m      1\u001b[0m \u001b[38;5;66;03m# Run the analysis if executing this notebook directly\u001b[39;00m\n\u001b[0;32m      2\u001b[0m \u001b[38;5;28;01mif\u001b[39;00m \u001b[38;5;18m__name__\u001b[39m \u001b[38;5;241m==\u001b[39m \u001b[38;5;124m\"\u001b[39m\u001b[38;5;124m__main__\u001b[39m\u001b[38;5;124m\"\u001b[39m:\n\u001b[1;32m----> 3\u001b[0m     \u001b[43manalyze_sans_data\u001b[49m\u001b[43m(\u001b[49m\u001b[43m)\u001b[49m\n",
      "Cell \u001b[1;32mIn[3], line 8\u001b[0m, in \u001b[0;36manalyze_sans_data\u001b[1;34m()\u001b[0m\n\u001b[0;32m      5\u001b[0m \u001b[38;5;28mprint\u001b[39m(\u001b[38;5;124m\"\u001b[39m\u001b[38;5;124m==================================\u001b[39m\u001b[38;5;124m\"\u001b[39m)\n\u001b[0;32m      7\u001b[0m \u001b[38;5;66;03m# Step 1: Connect to Neo4j Desktop\u001b[39;00m\n\u001b[1;32m----> 8\u001b[0m graph \u001b[38;5;241m=\u001b[39m \u001b[43mconnect_to_neo4j\u001b[49m(\u001b[38;5;124m\"\u001b[39m\u001b[38;5;124msans-genelab\u001b[39m\u001b[38;5;124m\"\u001b[39m)\n\u001b[0;32m      9\u001b[0m \u001b[38;5;28;01mif\u001b[39;00m \u001b[38;5;129;01mnot\u001b[39;00m graph:\n\u001b[0;32m     10\u001b[0m     \u001b[38;5;28;01mreturn\u001b[39;00m \u001b[38;5;28mprint\u001b[39m(\u001b[38;5;124m\"\u001b[39m\u001b[38;5;124mExiting due to connection failure\u001b[39m\u001b[38;5;124m\"\u001b[39m)\n",
      "\u001b[1;31mNameError\u001b[0m: name 'connect_to_neo4j' is not defined"
     ]
    }
   ],
   "source": [
    "# Run the analysis if executing this notebook directly\n",
    "if __name__ == \"__main__\":\n",
    "    analyze_sans_data()"
   ]
  },
  {
   "cell_type": "code",
   "execution_count": null,
   "id": "cbfa1235-3eb2-4c57-9e3a-6fc642e3eb94",
   "metadata": {},
   "outputs": [],
   "source": []
  }
 ],
 "metadata": {
  "kernelspec": {
   "display_name": "Python 3 (ipykernel)",
   "language": "python",
   "name": "python3"
  },
  "language_info": {
   "codemirror_mode": {
    "name": "ipython",
    "version": 3
   },
   "file_extension": ".py",
   "mimetype": "text/x-python",
   "name": "python",
   "nbconvert_exporter": "python",
   "pygments_lexer": "ipython3",
   "version": "3.10.16"
  }
 },
 "nbformat": 4,
 "nbformat_minor": 5
}
