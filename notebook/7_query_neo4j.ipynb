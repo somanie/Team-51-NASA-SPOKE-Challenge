{
 "cells": [
  {
   "cell_type": "code",
   "execution_count": 2,
   "id": "894a1b0f-660b-4437-a235-166b395e5c9b",
   "metadata": {},
   "outputs": [
    {
     "name": "stdout",
     "output_type": "stream",
     "text": [
      "Collecting seaborn\n",
      "  Downloading seaborn-0.13.2-py3-none-any.whl.metadata (5.4 kB)\n",
      "Requirement already satisfied: numpy!=1.24.0,>=1.20 in c:\\users\\qucoon\\anaconda3\\envs\\my_kg_env\\lib\\site-packages (from seaborn) (1.24.3)\n",
      "Requirement already satisfied: pandas>=1.2 in c:\\users\\qucoon\\anaconda3\\envs\\my_kg_env\\lib\\site-packages (from seaborn) (2.0.1)\n",
      "Requirement already satisfied: matplotlib!=3.6.1,>=3.4 in c:\\users\\qucoon\\anaconda3\\envs\\my_kg_env\\lib\\site-packages (from seaborn) (3.10.0)\n",
      "Requirement already satisfied: contourpy>=1.0.1 in c:\\users\\qucoon\\anaconda3\\envs\\my_kg_env\\lib\\site-packages (from matplotlib!=3.6.1,>=3.4->seaborn) (1.0.7)\n",
      "Requirement already satisfied: cycler>=0.10 in c:\\users\\qucoon\\anaconda3\\envs\\my_kg_env\\lib\\site-packages (from matplotlib!=3.6.1,>=3.4->seaborn) (0.12.1)\n",
      "Requirement already satisfied: fonttools>=4.22.0 in c:\\users\\qucoon\\anaconda3\\envs\\my_kg_env\\lib\\site-packages (from matplotlib!=3.6.1,>=3.4->seaborn) (4.39.3)\n",
      "Requirement already satisfied: kiwisolver>=1.3.1 in c:\\users\\qucoon\\anaconda3\\envs\\my_kg_env\\lib\\site-packages (from matplotlib!=3.6.1,>=3.4->seaborn) (1.4.4)\n",
      "Requirement already satisfied: packaging>=20.0 in c:\\users\\qucoon\\anaconda3\\envs\\my_kg_env\\lib\\site-packages (from matplotlib!=3.6.1,>=3.4->seaborn) (25.0)\n",
      "Requirement already satisfied: pillow>=8 in c:\\users\\qucoon\\anaconda3\\envs\\my_kg_env\\lib\\site-packages (from matplotlib!=3.6.1,>=3.4->seaborn) (11.1.0)\n",
      "Requirement already satisfied: pyparsing>=2.3.1 in c:\\users\\qucoon\\anaconda3\\envs\\my_kg_env\\lib\\site-packages (from matplotlib!=3.6.1,>=3.4->seaborn) (3.2.3)\n",
      "Requirement already satisfied: python-dateutil>=2.7 in c:\\users\\qucoon\\anaconda3\\envs\\my_kg_env\\lib\\site-packages (from matplotlib!=3.6.1,>=3.4->seaborn) (2.9.0.post0)\n",
      "Requirement already satisfied: pytz>=2020.1 in c:\\users\\qucoon\\anaconda3\\envs\\my_kg_env\\lib\\site-packages (from pandas>=1.2->seaborn) (2025.2)\n",
      "Requirement already satisfied: tzdata>=2022.1 in c:\\users\\qucoon\\anaconda3\\envs\\my_kg_env\\lib\\site-packages (from pandas>=1.2->seaborn) (2025.2)\n",
      "Requirement already satisfied: six>=1.5 in c:\\users\\qucoon\\anaconda3\\envs\\my_kg_env\\lib\\site-packages (from python-dateutil>=2.7->matplotlib!=3.6.1,>=3.4->seaborn) (1.17.0)\n",
      "Downloading seaborn-0.13.2-py3-none-any.whl (294 kB)\n",
      "Installing collected packages: seaborn\n",
      "Successfully installed seaborn-0.13.2\n"
     ]
    }
   ],
   "source": [
    "!pip install seaborn"
   ]
  },
  {
   "cell_type": "code",
   "execution_count": 3,
   "id": "4ca4cc59-ece5-406e-97ac-86e31cc15069",
   "metadata": {},
   "outputs": [],
   "source": [
    "import pandas as pd\n",
    "import matplotlib.pyplot as plt\n",
    "import seaborn as sns\n",
    "from py2neo import Graph\n",
    "import numpy as np"
   ]
  },
  {
   "cell_type": "code",
   "execution_count": 4,
   "id": "90919cd8-5c21-4661-89bf-89db7f048477",
   "metadata": {},
   "outputs": [],
   "source": [
    "# CONNECTION FUNCTION\n",
    "def connect_to_neo4j(db_name=\"sans-genelab\"):\n",
    "    \"\"\"Connect to Neo4j database\"\"\"\n",
    "    uri, user = \"bolt://localhost:7687\", input(\"Username [neo4j]: \") or \"neo4j\"\n",
    "    password = input(\"Password: \")\n",
    "    try:\n",
    "        return Graph(uri, user=user, password=password, name=db_name)\n",
    "    except Exception as e:\n",
    "        print(f\"❌ Connection failed: {str(e)}\")\n",
    "        return None"
   ]
  },
  {
   "cell_type": "code",
   "execution_count": 5,
   "id": "3723f85f-a191-4e4d-97b3-3aeb6d17b28b",
   "metadata": {},
   "outputs": [],
   "source": [
    "# QUERY FUNCTIONS\n",
    "def query_clinical_findings(graph, search_term=None, mission=None, limit=10):\n",
    "    \"\"\"Query clinical findings with optional search or mission filter\"\"\"\n",
    "    if search_term:\n",
    "        query = \"CALL db.index.fulltext.queryNodes('clinicalSearch', $search) YIELD node WITH node as finding \"\n",
    "        params = {\"search\": search_term}\n",
    "    else:\n",
    "        query = \"MATCH (finding:ClinicalFinding) \"\n",
    "        params = {}\n",
    "    \n",
    "    query += \"MATCH (s:Study)-[r:EXHIBITED_SeC]->(finding) \"\n",
    "    \n",
    "    if mission:\n",
    "        query += \"MATCH (s)-[:PART_OF]->(m:Mission) WHERE m.name CONTAINS $mission \"\n",
    "        params[\"mission\"] = mission\n",
    "    \n",
    "    query += \"RETURN s.name AS study, finding.name AS finding, r.effect_size AS effect_size, \"\n",
    "    query += \"r.p_value AS p_value ORDER BY r.effect_size DESC LIMIT $limit\"\n",
    "    params[\"limit\"] = limit\n",
    "    \n",
    "    return graph.run(query, **params).to_data_frame()\n"
   ]
  },
  {
   "cell_type": "code",
   "execution_count": 6,
   "id": "70e4a6e4-64a9-43dc-b068-5762aa6bb46b",
   "metadata": {},
   "outputs": [],
   "source": [
    "def query_omics_data(graph, gene_symbol=None, pathway=None, limit=10):\n",
    "    \"\"\"Query omics data based on gene symbol or pathway\"\"\"\n",
    "    query, params = \"MATCH (g:Gene) WHERE 1=1 \", {}\n",
    "    \n",
    "    if gene_symbol:\n",
    "        query += \"AND g.symbol = $symbol \"\n",
    "        params[\"symbol\"] = gene_symbol\n",
    "    if pathway:\n",
    "        query += \"WITH g MATCH (g)-[:PART_OF]->(p:Pathway) WHERE p.name CONTAINS $pathway \"\n",
    "        params[\"pathway\"] = pathway\n",
    "    \n",
    "    query += \"\"\"WITH g MATCH (s:Study)-[r:EXPRESSED]->(g)\n",
    "               RETURN s.name AS study, g.symbol AS gene, r.fold_change AS fold_change, \n",
    "               r.p_value AS p_value ORDER BY r.fold_change DESC LIMIT $limit\"\"\"\n",
    "    params[\"limit\"] = limit\n",
    "    \n",
    "    return graph.run(query, **params).to_data_frame()"
   ]
  },
  {
   "cell_type": "code",
   "execution_count": 7,
   "id": "68adb5e5-01d5-48d9-b5df-f88577e1ddbd",
   "metadata": {},
   "outputs": [],
   "source": [
    "def visualize_study_network(graph, study_name):\n",
    "    \"\"\"Create network visualization around a study\"\"\"\n",
    "    query = \"\"\"MATCH (s:Study {name: $study_name})\n",
    "              OPTIONAL MATCH (s)-[:EXHIBITED_SeC]->(c:ClinicalFinding)\n",
    "              OPTIONAL MATCH (s)-[:EXPRESSED]->(g:Gene)\n",
    "              RETURN s.name AS study, collect(c.name) AS findings, collect(g.symbol) AS genes\"\"\"\n",
    "    \n",
    "    result = graph.run(query, study_name=study_name).data()\n",
    "    if not result: return f\"Study '{study_name}' not found\"\n",
    "    \n",
    "    data = result[0]\n",
    "    findings = [f for f in data[\"findings\"] if f][:8]  # Limit to 8 findings\n",
    "    genes = [g for g in data[\"genes\"] if g][:10]      # Limit to 10 genes\n",
    "    \n",
    "    # Create plot\n",
    "    fig, ax = plt.subplots(figsize=(10, 8))\n",
    "    ax.scatter(0, 0, s=300, color='#fd8d3c', label='Study')\n",
    "    ax.text(0, 0, data['study'], ha='center', va='center', fontweight='bold')\n",
    "    \n",
    "    # Plot findings\n",
    "    if findings:\n",
    "        angles = np.linspace(0, 2*np.pi, len(findings), endpoint=False)\n",
    "        for i, finding in enumerate(findings):\n",
    "            x, y = 3 * np.cos(angles[i]), 3 * np.sin(angles[i])\n",
    "            ax.scatter(x, y, s=200, color='#fb6a4a', alpha=0.7)\n",
    "            ax.text(x, y, finding[:15]+'...' if len(finding) > 15 else finding, \n",
    "                  ha='center', va='center', fontsize=8)\n",
    "            ax.plot([0, x], [0, y], 'k-', alpha=0.2)\n",
    "    \n",
    "    # Plot genes\n",
    "    if genes:\n",
    "        angles = np.linspace(0, 2*np.pi, len(genes), endpoint=False)\n",
    "        for i, gene in enumerate(genes):\n",
    "            x, y = 5 * np.cos(angles[i]), 5 * np.sin(angles[i])\n",
    "            ax.scatter(x, y, s=150, color='#74c476', alpha=0.7)\n",
    "            ax.text(x, y, gene, ha='center', va='center', fontsize=8)\n",
    "            ax.plot([0, x], [0, y], 'k-', alpha=0.2)\n",
    "    \n",
    "    ax.set_title(f'Network for: {data[\"study\"]}')\n",
    "    ax.set_xlim(-6, 6), ax.set_ylim(-6, 6), ax.set_aspect('equal'), ax.axis('off')\n",
    "    return fig"
   ]
  },
  {
   "cell_type": "code",
   "execution_count": 8,
   "id": "6dae5dac-9e1a-434f-b46e-f4795155b1d5",
   "metadata": {},
   "outputs": [],
   "source": [
    "def compare_missions(graph, missions=None):\n",
    "    \"\"\"Compare findings across missions\"\"\"\n",
    "    if not missions:\n",
    "        query = \"\"\"MATCH (m:Mission)<-[:PART_OF]-(s:Study) \n",
    "                  RETURN m.name AS mission, count(s) AS study_count \n",
    "                  ORDER BY study_count DESC LIMIT 5\"\"\"\n",
    "        missions = [row[\"mission\"] for row in graph.run(query).data()]\n",
    "    \n",
    "    all_findings = []\n",
    "    for mission in missions:\n",
    "        query = \"\"\"MATCH (m:Mission {name: $mission})<-[:PART_OF]-(s:Study)\n",
    "                  -[r:EXHIBITED_SeC]->(c:ClinicalFinding)\n",
    "                  WITH c.name AS finding, count(r) AS count, avg(r.effect_size) AS effect\n",
    "                  ORDER BY count DESC LIMIT 8\n",
    "                  RETURN $mission AS mission, finding, count, effect\"\"\"\n",
    "        all_findings.extend(graph.run(query, mission=mission).data())\n",
    "    \n",
    "    df = pd.DataFrame(all_findings)\n",
    "    fig, ax = plt.subplots(figsize=(12, 6))\n",
    "    sns.barplot(x='finding', y='count', hue='mission', data=df, ax=ax)\n",
    "    plt.xticks(rotation=45, ha='right')\n",
    "    plt.title('Clinical Findings by Mission')\n",
    "    plt.tight_layout()\n",
    "    return fig"
   ]
  },
  {
   "cell_type": "code",
   "execution_count": 9,
   "id": "43d17e4f-d0f3-4aa7-bc48-e36e3666f8b5",
   "metadata": {},
   "outputs": [
    {
     "name": "stdin",
     "output_type": "stream",
     "text": [
      "Username [neo4j]:  neo4j\n",
      "Password:  neo4jdemo\n"
     ]
    },
    {
     "name": "stdout",
     "output_type": "stream",
     "text": [
      "Connected to Neo4j. Try the following functions:\n",
      "1. query_clinical_findings(graph, search_term='vision')\n",
      "2. query_omics_data(graph, pathway='oxidative stress')\n",
      "3. visualize_study_network(graph, 'NASA Twins Study')\n",
      "4. compare_missions(graph, ['ISS', 'Apollo'])\n"
     ]
    }
   ],
   "source": [
    "# Example usage\n",
    "if __name__ == \"__main__\":\n",
    "    graph = connect_to_neo4j(\"sans-genelab\")\n",
    "    if graph:\n",
    "        print(\"Connected to Neo4j. Try the following functions:\")\n",
    "        print(\"1. query_clinical_findings(graph, search_term='vision')\")\n",
    "        print(\"2. query_omics_data(graph, pathway='oxidative stress')\")\n",
    "        print(\"3. visualize_study_network(graph, 'NASA Twins Study')\")\n",
    "        print(\"4. compare_missions(graph, ['ISS', 'Apollo'])\")"
   ]
  },
  {
   "cell_type": "code",
   "execution_count": null,
   "id": "c52256e3-a62d-42b0-b386-bd6c8f4db9b3",
   "metadata": {},
   "outputs": [],
   "source": []
  }
 ],
 "metadata": {
  "kernelspec": {
   "display_name": "Python 3 (ipykernel)",
   "language": "python",
   "name": "python3"
  },
  "language_info": {
   "codemirror_mode": {
    "name": "ipython",
    "version": 3
   },
   "file_extension": ".py",
   "mimetype": "text/x-python",
   "name": "python",
   "nbconvert_exporter": "python",
   "pygments_lexer": "ipython3",
   "version": "3.10.16"
  }
 },
 "nbformat": 4,
 "nbformat_minor": 5
}
