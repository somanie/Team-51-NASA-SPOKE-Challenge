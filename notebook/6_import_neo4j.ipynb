{
 "cells": [
  {
   "cell_type": "markdown",
   "id": "1744ce15-7e48-4d77-b8ef-06d4c2a0c596",
   "metadata": {},
   "source": [
    "## 🌐 Import & Inspect NASA SANS Knowledge Graph in Neo4j\n",
    "\n",
    "This notebook bulk-imports the CSV node and relationship exports from our NASA KG \n",
    "pipeline into a Neo4j graph database, then runs exploratory queries to validate schema, \n",
    "metadata, counts, and full-text search functionality.\n",
    "\n",
    "Author: [Chisom Aniekwensi]"
   ]
  },
  {
   "cell_type": "code",
   "execution_count": 1,
   "id": "bcbab4be-dd06-4025-a14d-a05c7e3771bc",
   "metadata": {
    "scrolled": true
   },
   "outputs": [
    {
     "name": "stdout",
     "output_type": "stream",
     "text": [
      "Requirement already satisfied: py2neo in c:\\users\\qucoon\\anaconda3\\envs\\my_kg_env\\lib\\site-packages (2021.2.4)\n",
      "Requirement already satisfied: pandas in c:\\users\\qucoon\\anaconda3\\envs\\my_kg_env\\lib\\site-packages (2.0.1)\n",
      "Requirement already satisfied: certifi in c:\\users\\qucoon\\anaconda3\\envs\\my_kg_env\\lib\\site-packages (from py2neo) (2025.1.31)\n",
      "Requirement already satisfied: interchange~=2021.0.4 in c:\\users\\qucoon\\anaconda3\\envs\\my_kg_env\\lib\\site-packages (from py2neo) (2021.0.4)\n",
      "Requirement already satisfied: monotonic in c:\\users\\qucoon\\anaconda3\\envs\\my_kg_env\\lib\\site-packages (from py2neo) (1.6)\n",
      "Requirement already satisfied: packaging in c:\\users\\qucoon\\anaconda3\\envs\\my_kg_env\\lib\\site-packages (from py2neo) (25.0)\n",
      "Requirement already satisfied: pansi>=2020.7.3 in c:\\users\\qucoon\\anaconda3\\envs\\my_kg_env\\lib\\site-packages (from py2neo) (2024.11.0)\n",
      "Requirement already satisfied: pygments>=2.0.0 in c:\\users\\qucoon\\anaconda3\\envs\\my_kg_env\\lib\\site-packages (from py2neo) (2.19.1)\n",
      "Requirement already satisfied: six>=1.15.0 in c:\\users\\qucoon\\anaconda3\\envs\\my_kg_env\\lib\\site-packages (from py2neo) (1.17.0)\n",
      "Requirement already satisfied: urllib3 in c:\\users\\qucoon\\anaconda3\\envs\\my_kg_env\\lib\\site-packages (from py2neo) (2.4.0)\n",
      "Requirement already satisfied: pytz in c:\\users\\qucoon\\anaconda3\\envs\\my_kg_env\\lib\\site-packages (from interchange~=2021.0.4->py2neo) (2025.2)\n",
      "Requirement already satisfied: python-dateutil>=2.8.2 in c:\\users\\qucoon\\anaconda3\\envs\\my_kg_env\\lib\\site-packages (from pandas) (2.9.0.post0)\n",
      "Requirement already satisfied: tzdata>=2022.1 in c:\\users\\qucoon\\anaconda3\\envs\\my_kg_env\\lib\\site-packages (from pandas) (2025.2)\n",
      "Requirement already satisfied: numpy>=1.21.0 in c:\\users\\qucoon\\anaconda3\\envs\\my_kg_env\\lib\\site-packages (from pandas) (1.24.3)\n",
      "Requirement already satisfied: pillow in c:\\users\\qucoon\\anaconda3\\envs\\my_kg_env\\lib\\site-packages (from pansi>=2020.7.3->py2neo) (11.1.0)\n"
     ]
    }
   ],
   "source": [
    "!pip install py2neo pandas"
   ]
  },
  {
   "cell_type": "code",
   "execution_count": 26,
   "id": "7e59bca1-3e77-4384-b80f-51ddef5a1a32",
   "metadata": {},
   "outputs": [],
   "source": [
    "import os, pandas as pd, glob\n",
    "from py2neo import Graph"
   ]
  },
  {
   "cell_type": "code",
   "execution_count": 33,
   "id": "c7bd80b7-fa5c-445c-8636-579040c5768b",
   "metadata": {},
   "outputs": [],
   "source": [
    "# Connect to Neo4j\n",
    "def connect_to_neo4j():\n",
    "    uri = \"bolt://localhost:7687\"\n",
    "    user = input(\"Neo4j username [neo4j]: \").strip() or \"neo4j\"\n",
    "    password = input(\"Neo4j password: \").strip()\n",
    "    return Graph(uri, auth=(user, password))"
   ]
  },
  {
   "cell_type": "code",
   "execution_count": 34,
   "id": "4d22b68a-662c-4b3d-b666-b08146d86483",
   "metadata": {},
   "outputs": [],
   "source": [
    "# Find KG directory\n",
    "def find_kg_dir(path=None):\n",
    "    base_dir = path or input(\"Path to knowledge graph directory: \").strip() or os.getcwd()\n",
    "    print(f\"Searching in: {base_dir}\")\n",
    "    \n",
    "    for nodes_dir in glob.glob(os.path.join(base_dir, \"**/nodes\"), recursive=True):\n",
    "        rels_dir = os.path.join(os.path.dirname(nodes_dir), \"rels\")\n",
    "        if os.path.exists(rels_dir):\n",
    "            print(f\"Found KG at: {os.path.dirname(nodes_dir)}\")\n",
    "            return {\"nodes\": nodes_dir, \"rels\": rels_dir}\n",
    "    print(\"KG not found. Check the path.\")\n",
    "    return None"
   ]
  },
  {
   "cell_type": "code",
   "execution_count": 35,
   "id": "91c16af5-5eae-4629-bd64-701216909d91",
   "metadata": {},
   "outputs": [],
   "source": [
    "# Import nodes\n",
    "def import_nodes(graph, nodes_dir):\n",
    "    count = 0\n",
    "    for file in [f for f in os.listdir(nodes_dir) if f.endswith('.csv')]:\n",
    "        node_type = file.replace('.csv', '')\n",
    "        df = pd.read_csv(os.path.join(nodes_dir, file))\n",
    "        print(f\"Importing {len(df)} {node_type} nodes...\")\n",
    "        \n",
    "        # Create index\n",
    "        graph.run(f\"CREATE INDEX IF NOT EXISTS FOR (n:{node_type}) ON (n.identifier)\")\n",
    "        \n",
    "        # Import in batches\n",
    "        for i in range(0, len(df), 500):\n",
    "            batch = df.iloc[i:i+500].fillna('').to_dict('records')\n",
    "            graph.run(f\"UNWIND $records AS r CREATE (n:{node_type}) SET n = r\", records=batch)\n",
    "            count += len(batch)\n",
    "    return count"
   ]
  },
  {
   "cell_type": "code",
   "execution_count": 36,
   "id": "75e1915f-28cb-4794-8f81-1ec729c450da",
   "metadata": {},
   "outputs": [],
   "source": [
    "def import_relationships(graph, rels_dir):\n",
    "    \"\"\"Import relationships from CSV files\"\"\"\n",
    "    rel_count = 0\n",
    "    for file_name in [f for f in os.listdir(rels_dir) if f.endswith('.csv')]:\n",
    "        parts = file_name.replace('.csv', '').split('-')\n",
    "        if len(parts) != 3: continue\n",
    "        source_type, rel_type, target_type = parts\n",
    "        \n",
    "        df = pd.read_csv(os.path.join(rels_dir, file_name))\n",
    "        print(f\"🔗 Importing {len(df)} {rel_type} relationships...\")\n",
    "        \n",
    "        # Create indices for faster lookups\n",
    "        graph.run(f\"CREATE INDEX IF NOT EXISTS FOR (n:{source_type}) ON (n.identifier)\")\n",
    "        graph.run(f\"CREATE INDEX IF NOT EXISTS FOR (n:{target_type}) ON (n.identifier)\")\n",
    "        \n",
    "        for i in range(0, len(df), 500):\n",
    "            batch = df.iloc[i:i+500].fillna('').to_dict('records')\n",
    "            query = f\"\"\"\n",
    "            UNWIND $records AS r\n",
    "            MATCH (a:{source_type} {{identifier: r.from}})\n",
    "            MATCH (b:{target_type} {{identifier: r.to}})\n",
    "            CREATE (a)-[rel:{rel_type}]->(b)\n",
    "            SET rel = r\n",
    "            REMOVE rel.from, rel.to\n",
    "            \"\"\"\n",
    "            rel_count += graph.run(query, records=batch).stats().relationships_created\n",
    "    return rel_count\n"
   ]
  },
  {
   "cell_type": "code",
   "execution_count": 37,
   "id": "b8932469-0ddd-4b53-82ce-a30e4e6b8c35",
   "metadata": {},
   "outputs": [],
   "source": [
    "# Import relationships\n",
    "def import_relationships(graph, rels_dir):\n",
    "    count = 0\n",
    "    for file in [f for f in os.listdir(rels_dir) if f.endswith('.csv')]:\n",
    "        parts = file.replace('.csv', '').split('-')\n",
    "        if len(parts) != 3: continue\n",
    "        source, rel_type, target = parts\n",
    "        \n",
    "        df = pd.read_csv(os.path.join(rels_dir, file))\n",
    "        print(f\"Importing {len(df)} {rel_type} relationships...\")\n",
    "        \n",
    "        # Create indices\n",
    "        graph.run(f\"CREATE INDEX IF NOT EXISTS FOR (n:{source}) ON (n.identifier)\")\n",
    "        graph.run(f\"CREATE INDEX IF NOT EXISTS FOR (n:{target}) ON (n.identifier)\")\n",
    "        \n",
    "        # Import in batches\n",
    "        batch_count = 0\n",
    "        for i in range(0, len(df), 500):\n",
    "            batch = df.iloc[i:i+500].fillna('').to_dict('records')\n",
    "            query = f\"\"\"\n",
    "            UNWIND $records AS r\n",
    "            MATCH (a:{source} {{identifier: r.from}})\n",
    "            MATCH (b:{target} {{identifier: r.to}})\n",
    "            CREATE (a)-[rel:{rel_type}]->(b)\n",
    "            SET rel = r\n",
    "            REMOVE rel.from, rel.to\n",
    "            \"\"\"\n",
    "            graph.run(query, records=batch)\n",
    "            batch_count += len(batch)\n",
    "            print(f\"  Processed {batch_count}/{len(df)} {rel_type} relationships\")\n",
    "        count += batch_count\n",
    "    return count\n"
   ]
  },
  {
   "cell_type": "code",
   "execution_count": 38,
   "id": "cbc7bdf8-a0b4-4852-9435-fa350959d348",
   "metadata": {
    "scrolled": true
   },
   "outputs": [
    {
     "name": "stdout",
     "output_type": "stream",
     "text": [
      "NASA SANS Knowledge Graph Importer\n",
      "==================================\n"
     ]
    },
    {
     "name": "stdin",
     "output_type": "stream",
     "text": [
      "Neo4j username [neo4j]:  neo4j\n",
      "Neo4j password:  neo4jdemo\n",
      "Path to knowledge graph directory:  C:\\Users\\QUCOON\\Documents\\Chisom_Personal_Doc\\NASA_KnowHax_2025\\knowledge_graph\n"
     ]
    },
    {
     "name": "stdout",
     "output_type": "stream",
     "text": [
      "Searching in: C:\\Users\\QUCOON\\Documents\\Chisom_Personal_Doc\\NASA_KnowHax_2025\\knowledge_graph\n",
      "Found KG at: C:\\Users\\QUCOON\\Documents\\Chisom_Personal_Doc\\NASA_KnowHax_2025\\knowledge_graph\\v0.0.1\n"
     ]
    },
    {
     "name": "stdin",
     "output_type": "stream",
     "text": [
      "Clear database? (y/n):  n\n"
     ]
    },
    {
     "name": "stdout",
     "output_type": "stream",
     "text": [
      "Importing 3 Anatomy nodes...\n",
      "Importing 9 Assay nodes...\n",
      "Importing 9 Biomarker nodes...\n",
      "Importing 15 ClinicalFinding nodes...\n",
      "Importing 9 EnvironmentalFactor nodes...\n",
      "Importing 3 Gene nodes...\n",
      "Importing 3 Measurement nodes...\n",
      "Importing 9 MGene nodes...\n",
      "Importing 2 Mission nodes...\n",
      "Importing 3 Study nodes...\n",
      "Importing 12 INVESTIGATED_ASiA relationships...\n",
      "  Processed 12/12 INVESTIGATED_ASiA relationships\n",
      "Importing 9 IS_ORTHOLOG_MGiG relationships...\n",
      "  Processed 9/9 IS_ORTHOLOG_MGiG relationships\n",
      "Importing 3 CONDUCTED_MICS relationships...\n",
      "  Processed 3/3 CONDUCTED_MICS relationships\n",
      "Importing 9 EXHIBITED_SeB relationships...\n",
      "  Processed 9/9 EXHIBITED_SeB relationships\n",
      "Importing 15 EXHIBITED_SeC relationships...\n",
      "  Processed 15/15 EXHIBITED_SeC relationships\n",
      "Importing 9 EXPOSED_TO_SeE relationships...\n",
      "  Processed 9/9 EXPOSED_TO_SeE relationships\n",
      "Importing 9 PERFORMED_SpAS relationships...\n",
      "  Processed 9/9 PERFORMED_SpAS relationships\n",
      "Adding styling...\n",
      "Import complete! Database now has 195 nodes and 66 relationships\n"
     ]
    }
   ],
   "source": [
    "# Main function\n",
    "if __name__ == \"__main__\":\n",
    "    print(\"NASA SANS Knowledge Graph Importer\")\n",
    "    print(\"==================================\")\n",
    "    \n",
    "    # Connect to Neo4j\n",
    "    graph = connect_to_neo4j()\n",
    "    \n",
    "    # Find and import KG\n",
    "    kg_dir = find_kg_dir()\n",
    "    if kg_dir:\n",
    "        # Clear DB if requested\n",
    "        if input(\"Clear database? (y/n): \").lower() == 'y':\n",
    "            graph.run(\"MATCH (n) DETACH DELETE n\")\n",
    "        \n",
    "        # Import data\n",
    "        nodes = import_nodes(graph, kg_dir['nodes'])\n",
    "        rels = import_relationships(graph, kg_dir['rels'])\n",
    "        \n",
    "        # Add styling - each in a separate query\n",
    "        print(\"Adding styling...\")\n",
    "        graph.run(\"MATCH (s:Study) SET s.ui_color = '#6baed6'\")\n",
    "        graph.run(\"MATCH (m:Mission) SET m.ui_color = '#fd8d3c'\")\n",
    "        graph.run(\"MATCH (g:Gene) SET g.ui_color = '#74c476'\")\n",
    "        graph.run(\"MATCH (c:ClinicalFinding) SET c.ui_color = '#fb6a4a'\")\n",
    "        \n",
    "        # Verify\n",
    "        count = graph.run(\"MATCH (n) RETURN count(n) AS count\").data()[0][\"count\"]\n",
    "        print(f\"Import complete! Database now has {count} nodes and {rels} relationships\")"
   ]
  },
  {
   "cell_type": "code",
   "execution_count": 20,
   "id": "d995cbea-0cb1-4047-9994-a103ae8f0030",
   "metadata": {},
   "outputs": [
    {
     "name": "stdout",
     "output_type": "stream",
     "text": [
      "NASA SANS Knowledge Graph Importer\n",
      "==================================\n"
     ]
    },
    {
     "name": "stdin",
     "output_type": "stream",
     "text": [
      "Enter path to knowledge graph directory (or press Enter to search current directory):  C:\\Users\\QUCOON\\Documents\\Chisom_Personal_Doc\\NASA_KnowHax_2025\\knowledge_graph\n"
     ]
    },
    {
     "name": "stdout",
     "output_type": "stream",
     "text": [
      "Searching for knowledge graph in: C:\\Users\\QUCOON\\Documents\\Chisom_Personal_Doc\\NASA_KnowHax_2025\\knowledge_graph\n",
      "Found knowledge graph at: C:\\Users\\QUCOON\\Documents\\Chisom_Personal_Doc\\NASA_KnowHax_2025\\knowledge_graph\\v0.0.1\n"
     ]
    },
    {
     "name": "stdin",
     "output_type": "stream",
     "text": [
      "Username [neo4j]:  neo4j\n",
      "Password:  neo4jdemo\n"
     ]
    },
    {
     "name": "stdout",
     "output_type": "stream",
     "text": [
      "✅ Connected to sans-genelab\n"
     ]
    },
    {
     "name": "stdin",
     "output_type": "stream",
     "text": [
      "Clear database? (y/n):  y\n"
     ]
    },
    {
     "ename": "ClientError",
     "evalue": "[Database.DatabaseNotFound] Database does not exist. Database name: 'sans-genelab'.",
     "output_type": "error",
     "traceback": [
      "\u001b[1;31m---------------------------------------------------------------------------\u001b[0m",
      "\u001b[1;31mClientError\u001b[0m                               Traceback (most recent call last)",
      "Cell \u001b[1;32mIn[20], line 10\u001b[0m\n\u001b[0;32m      7\u001b[0m kg_path \u001b[38;5;241m=\u001b[39m \u001b[38;5;28minput\u001b[39m(\u001b[38;5;124m\"\u001b[39m\u001b[38;5;124mEnter path to knowledge graph directory (or press Enter to search current directory): \u001b[39m\u001b[38;5;124m\"\u001b[39m)\n\u001b[0;32m      9\u001b[0m \u001b[38;5;66;03m# Run the import\u001b[39;00m\n\u001b[1;32m---> 10\u001b[0m graph \u001b[38;5;241m=\u001b[39m \u001b[43mimport_sans_kg\u001b[49m\u001b[43m(\u001b[49m\u001b[43mbase_dir\u001b[49m\u001b[38;5;241;43m=\u001b[39;49m\u001b[43mkg_path\u001b[49m\u001b[43m \u001b[49m\u001b[38;5;129;43;01mor\u001b[39;49;00m\u001b[43m \u001b[49m\u001b[38;5;28;43;01mNone\u001b[39;49;00m\u001b[43m,\u001b[49m\u001b[43m \u001b[49m\u001b[43mclear_db\u001b[49m\u001b[38;5;241;43m=\u001b[39;49m\u001b[38;5;28;43;01mTrue\u001b[39;49;00m\u001b[43m)\u001b[49m\n\u001b[0;32m     12\u001b[0m \u001b[38;5;28;01mif\u001b[39;00m graph:\n\u001b[0;32m     13\u001b[0m     \u001b[38;5;66;03m# Verify import\u001b[39;00m\n\u001b[0;32m     14\u001b[0m     study_count \u001b[38;5;241m=\u001b[39m graph\u001b[38;5;241m.\u001b[39mrun(\u001b[38;5;124m\"\u001b[39m\u001b[38;5;124mMATCH (s:Study) RETURN count(s) AS count\u001b[39m\u001b[38;5;124m\"\u001b[39m)\u001b[38;5;241m.\u001b[39mdata()[\u001b[38;5;241m0\u001b[39m][\u001b[38;5;124m\"\u001b[39m\u001b[38;5;124mcount\u001b[39m\u001b[38;5;124m\"\u001b[39m]\n",
      "Cell \u001b[1;32mIn[19], line 26\u001b[0m, in \u001b[0;36mimport_sans_kg\u001b[1;34m(base_dir, clear_db)\u001b[0m\n\u001b[0;32m     24\u001b[0m \u001b[38;5;66;03m# Clear database if requested\u001b[39;00m\n\u001b[0;32m     25\u001b[0m \u001b[38;5;28;01mif\u001b[39;00m clear_db \u001b[38;5;129;01mand\u001b[39;00m \u001b[38;5;28minput\u001b[39m(\u001b[38;5;124m\"\u001b[39m\u001b[38;5;124mClear database? (y/n): \u001b[39m\u001b[38;5;124m\"\u001b[39m)\u001b[38;5;241m.\u001b[39mlower() \u001b[38;5;241m==\u001b[39m \u001b[38;5;124m'\u001b[39m\u001b[38;5;124my\u001b[39m\u001b[38;5;124m'\u001b[39m:\n\u001b[1;32m---> 26\u001b[0m     \u001b[43mgraph\u001b[49m\u001b[38;5;241;43m.\u001b[39;49m\u001b[43mrun\u001b[49m\u001b[43m(\u001b[49m\u001b[38;5;124;43m\"\u001b[39;49m\u001b[38;5;124;43mMATCH (n) DETACH DELETE n\u001b[39;49m\u001b[38;5;124;43m\"\u001b[39;49m\u001b[43m)\u001b[49m\n\u001b[0;32m     27\u001b[0m     \u001b[38;5;28mprint\u001b[39m(\u001b[38;5;124m\"\u001b[39m\u001b[38;5;124m🧹 Database cleared\u001b[39m\u001b[38;5;124m\"\u001b[39m)\n\u001b[0;32m     29\u001b[0m \u001b[38;5;66;03m# Import data\u001b[39;00m\n",
      "File \u001b[1;32m~\\anaconda3\\envs\\my_kg_env\\lib\\site-packages\\py2neo\\database.py:405\u001b[0m, in \u001b[0;36mGraph.run\u001b[1;34m(self, cypher, parameters, **kwparameters)\u001b[0m\n\u001b[0;32m    395\u001b[0m \u001b[38;5;28;01mdef\u001b[39;00m\u001b[38;5;250m \u001b[39m\u001b[38;5;21mrun\u001b[39m(\u001b[38;5;28mself\u001b[39m, cypher, parameters\u001b[38;5;241m=\u001b[39m\u001b[38;5;28;01mNone\u001b[39;00m, \u001b[38;5;241m*\u001b[39m\u001b[38;5;241m*\u001b[39mkwparameters):\n\u001b[0;32m    396\u001b[0m \u001b[38;5;250m    \u001b[39m\u001b[38;5;124;03m\"\"\" Run a single read/write query within an auto-commit\u001b[39;00m\n\u001b[0;32m    397\u001b[0m \u001b[38;5;124;03m    :class:`~py2neo.Transaction`.\u001b[39;00m\n\u001b[0;32m    398\u001b[0m \n\u001b[1;32m   (...)\u001b[0m\n\u001b[0;32m    403\u001b[0m \u001b[38;5;124;03m    :return:\u001b[39;00m\n\u001b[0;32m    404\u001b[0m \u001b[38;5;124;03m    \"\"\"\u001b[39;00m\n\u001b[1;32m--> 405\u001b[0m     \u001b[38;5;28;01mreturn\u001b[39;00m \u001b[38;5;28mself\u001b[39m\u001b[38;5;241m.\u001b[39mauto()\u001b[38;5;241m.\u001b[39mrun(cypher, parameters, \u001b[38;5;241m*\u001b[39m\u001b[38;5;241m*\u001b[39mkwparameters)\n",
      "File \u001b[1;32m~\\anaconda3\\envs\\my_kg_env\\lib\\site-packages\\py2neo\\database.py:992\u001b[0m, in \u001b[0;36mTransaction.run\u001b[1;34m(self, cypher, parameters, **kwparameters)\u001b[0m\n\u001b[0;32m    988\u001b[0m     \u001b[38;5;28;01melse\u001b[39;00m:\n\u001b[0;32m    989\u001b[0m         result \u001b[38;5;241m=\u001b[39m \u001b[38;5;28mself\u001b[39m\u001b[38;5;241m.\u001b[39m_connector\u001b[38;5;241m.\u001b[39mauto_run(cypher, parameters,\n\u001b[0;32m    990\u001b[0m                                           graph_name\u001b[38;5;241m=\u001b[39m\u001b[38;5;28mself\u001b[39m\u001b[38;5;241m.\u001b[39mgraph\u001b[38;5;241m.\u001b[39mname,\n\u001b[0;32m    991\u001b[0m                                           readonly\u001b[38;5;241m=\u001b[39m\u001b[38;5;28mself\u001b[39m\u001b[38;5;241m.\u001b[39mreadonly)\n\u001b[1;32m--> 992\u001b[0m     \u001b[38;5;28;43mself\u001b[39;49m\u001b[38;5;241;43m.\u001b[39;49m\u001b[43m_connector\u001b[49m\u001b[38;5;241;43m.\u001b[39;49m\u001b[43mpull\u001b[49m\u001b[43m(\u001b[49m\u001b[43mresult\u001b[49m\u001b[43m,\u001b[49m\u001b[43m \u001b[49m\u001b[38;5;241;43m-\u001b[39;49m\u001b[38;5;241;43m1\u001b[39;49m\u001b[43m)\u001b[49m\n\u001b[0;32m    993\u001b[0m     \u001b[38;5;28;01mreturn\u001b[39;00m Cursor(result, hydrant)\n\u001b[0;32m    994\u001b[0m \u001b[38;5;28;01mfinally\u001b[39;00m:\n",
      "File \u001b[1;32m~\\anaconda3\\envs\\my_kg_env\\lib\\site-packages\\py2neo\\client\\__init__.py:1434\u001b[0m, in \u001b[0;36mConnector.pull\u001b[1;34m(self, result, n)\u001b[0m\n\u001b[0;32m   1432\u001b[0m cx \u001b[38;5;241m=\u001b[39m \u001b[38;5;28mself\u001b[39m\u001b[38;5;241m.\u001b[39m_reacquire(result\u001b[38;5;241m.\u001b[39mtransaction)\n\u001b[0;32m   1433\u001b[0m \u001b[38;5;28;01mtry\u001b[39;00m:\n\u001b[1;32m-> 1434\u001b[0m     \u001b[43mcx\u001b[49m\u001b[38;5;241;43m.\u001b[39;49m\u001b[43mpull\u001b[49m\u001b[43m(\u001b[49m\u001b[43mresult\u001b[49m\u001b[43m,\u001b[49m\u001b[43m \u001b[49m\u001b[43mn\u001b[49m\u001b[38;5;241;43m=\u001b[39;49m\u001b[43mn\u001b[49m\u001b[43m)\u001b[49m\n\u001b[0;32m   1435\u001b[0m \u001b[38;5;28;01mexcept\u001b[39;00m (ConnectionUnavailable, ConnectionBroken):\n\u001b[0;32m   1436\u001b[0m     \u001b[38;5;28mself\u001b[39m\u001b[38;5;241m.\u001b[39mprune(cx\u001b[38;5;241m.\u001b[39mprofile)\n",
      "File \u001b[1;32m~\\anaconda3\\envs\\my_kg_env\\lib\\site-packages\\py2neo\\client\\bolt.py:1001\u001b[0m, in \u001b[0;36mBolt4x0.pull\u001b[1;34m(self, result, n, capacity)\u001b[0m\n\u001b[0;32m    998\u001b[0m     raise_from(ConnectionBroken(\u001b[38;5;124m\"\u001b[39m\u001b[38;5;124mTransaction broken by disconnection \u001b[39m\u001b[38;5;124m\"\u001b[39m\n\u001b[0;32m    999\u001b[0m                                 \u001b[38;5;124m\"\u001b[39m\u001b[38;5;124mduring pull\u001b[39m\u001b[38;5;124m\"\u001b[39m), error)\n\u001b[0;32m   1000\u001b[0m \u001b[38;5;28;01melse\u001b[39;00m:\n\u001b[1;32m-> 1001\u001b[0m     \u001b[38;5;28;43mself\u001b[39;49m\u001b[38;5;241;43m.\u001b[39;49m\u001b[43m_audit\u001b[49m\u001b[43m(\u001b[49m\u001b[38;5;28;43mself\u001b[39;49m\u001b[38;5;241;43m.\u001b[39;49m\u001b[43m_transaction\u001b[49m\u001b[43m)\u001b[49m\n\u001b[0;32m   1002\u001b[0m     \u001b[38;5;28;01mreturn\u001b[39;00m response\n",
      "File \u001b[1;32m~\\anaconda3\\envs\\my_kg_env\\lib\\site-packages\\py2neo\\client\\bolt.py:810\u001b[0m, in \u001b[0;36mBolt1._audit\u001b[1;34m(self, task)\u001b[0m\n\u001b[0;32m    808\u001b[0m     \u001b[38;5;28;01mreturn\u001b[39;00m\n\u001b[0;32m    809\u001b[0m \u001b[38;5;28;01mtry\u001b[39;00m:\n\u001b[1;32m--> 810\u001b[0m     \u001b[43mtask\u001b[49m\u001b[38;5;241;43m.\u001b[39;49m\u001b[43maudit\u001b[49m\u001b[43m(\u001b[49m\u001b[43m)\u001b[49m\n\u001b[0;32m    811\u001b[0m \u001b[38;5;28;01mexcept\u001b[39;00m Neo4jError:\n\u001b[0;32m    812\u001b[0m     \u001b[38;5;28mself\u001b[39m\u001b[38;5;241m.\u001b[39mreset(force\u001b[38;5;241m=\u001b[39m\u001b[38;5;28;01mTrue\u001b[39;00m)\n",
      "File \u001b[1;32m~\\anaconda3\\envs\\my_kg_env\\lib\\site-packages\\py2neo\\client\\bolt.py:1140\u001b[0m, in \u001b[0;36mItemizedTask.audit\u001b[1;34m(self)\u001b[0m\n\u001b[0;32m   1138\u001b[0m \u001b[38;5;28;01mdef\u001b[39;00m\u001b[38;5;250m \u001b[39m\u001b[38;5;21maudit\u001b[39m(\u001b[38;5;28mself\u001b[39m):\n\u001b[0;32m   1139\u001b[0m     \u001b[38;5;28;01mfor\u001b[39;00m item \u001b[38;5;129;01min\u001b[39;00m \u001b[38;5;28mself\u001b[39m\u001b[38;5;241m.\u001b[39m_items:\n\u001b[1;32m-> 1140\u001b[0m         \u001b[43mitem\u001b[49m\u001b[38;5;241;43m.\u001b[39;49m\u001b[43maudit\u001b[49m\u001b[43m(\u001b[49m\u001b[43m)\u001b[49m\n",
      "File \u001b[1;32m~\\anaconda3\\envs\\my_kg_env\\lib\\site-packages\\py2neo\\client\\bolt.py:1140\u001b[0m, in \u001b[0;36mItemizedTask.audit\u001b[1;34m(self)\u001b[0m\n\u001b[0;32m   1138\u001b[0m \u001b[38;5;28;01mdef\u001b[39;00m\u001b[38;5;250m \u001b[39m\u001b[38;5;21maudit\u001b[39m(\u001b[38;5;28mself\u001b[39m):\n\u001b[0;32m   1139\u001b[0m     \u001b[38;5;28;01mfor\u001b[39;00m item \u001b[38;5;129;01min\u001b[39;00m \u001b[38;5;28mself\u001b[39m\u001b[38;5;241m.\u001b[39m_items:\n\u001b[1;32m-> 1140\u001b[0m         \u001b[43mitem\u001b[49m\u001b[38;5;241;43m.\u001b[39;49m\u001b[43maudit\u001b[49m\u001b[43m(\u001b[49m\u001b[43m)\u001b[49m\n",
      "File \u001b[1;32m~\\anaconda3\\envs\\my_kg_env\\lib\\site-packages\\py2neo\\client\\bolt.py:1303\u001b[0m, in \u001b[0;36mBoltResponse.audit\u001b[1;34m(self)\u001b[0m\n\u001b[0;32m   1301\u001b[0m \u001b[38;5;28;01mif\u001b[39;00m \u001b[38;5;28mself\u001b[39m\u001b[38;5;241m.\u001b[39m_failure:\n\u001b[0;32m   1302\u001b[0m     \u001b[38;5;28mself\u001b[39m\u001b[38;5;241m.\u001b[39mset_ignored()\n\u001b[1;32m-> 1303\u001b[0m     \u001b[38;5;28;01mraise\u001b[39;00m \u001b[38;5;28mself\u001b[39m\u001b[38;5;241m.\u001b[39m_failure\n",
      "\u001b[1;31mClientError\u001b[0m: [Database.DatabaseNotFound] Database does not exist. Database name: 'sans-genelab'."
     ]
    }
   ],
   "source": [
    "# Example usage\n",
    "if __name__ == \"__main__\":\n",
    "    print(\"NASA SANS Knowledge Graph Importer\")\n",
    "    print(\"==================================\")\n",
    "    \n",
    "    # Ask for KG directory\n",
    "    kg_path = input(\"Enter path to knowledge graph directory (or press Enter to search current directory): \")\n",
    "    \n",
    "    # Run the import\n",
    "    graph = import_sans_kg(base_dir=kg_path or None, clear_db=True)\n",
    "    \n",
    "    if graph:\n",
    "        # Verify import\n",
    "        study_count = graph.run(\"MATCH (s:Study) RETURN count(s) AS count\").data()[0][\"count\"]\n",
    "        print(f\"Verification: Found {study_count} Study nodes in the database\")"
   ]
  },
  {
   "cell_type": "code",
   "execution_count": 11,
   "id": "38be3f42-7eef-4d89-975f-3273cbb70da4",
   "metadata": {},
   "outputs": [],
   "source": [
    "# MAIN FUNCTION\n",
    "def import_sans_kg(base_dir=None, clear_db=False):\n",
    "    \"\"\"Main function to import SANS knowledge graph\"\"\"\n",
    "    print(\"🚀 NASA SANS Knowledge Graph Import Tool\")\n",
    "    \n",
    "    # Find knowledge graph\n",
    "    kg_dir = find_kg_dir(base_dir or os.getcwd())\n",
    "    if not kg_dir:\n",
    "        print(\"❌ Knowledge graph directory not found\")\n",
    "        return False\n",
    "        \n",
    "    # Connect to Neo4j\n",
    "    graph = connect_to_neo4j(\"sans-genelab\")\n",
    "    if not graph:\n",
    "        return False\n",
    "    \n",
    "    # Clear database if requested\n",
    "    if clear_db and input(\"Clear existing database? (y/n): \").lower() == 'y':\n",
    "        graph.run(\"MATCH (n) DETACH DELETE n\")\n",
    "        print(\"🧹 Database cleared\")\n",
    "    \n",
    "    # Import data\n",
    "    node_count = import_nodes(graph, kg_dir['nodes'])\n",
    "    rel_count = import_relationships(graph, kg_dir['rels'])\n",
    "    \n",
    "    # Configure GeneLab-specific settings\n",
    "    configure_genelab_database(graph)\n",
    "    apply_grass_styling(graph)\n",
    "    \n",
    "    print(f\"✅ Import complete! Added {node_count} nodes and {rel_count} relationships\")\n",
    "    return True\n"
   ]
  },
  {
   "cell_type": "code",
   "execution_count": 12,
   "id": "612fad19-8753-46f1-a829-9e171b835712",
   "metadata": {},
   "outputs": [
    {
     "name": "stdout",
     "output_type": "stream",
     "text": [
      "🚀 NASA SANS Knowledge Graph Import Tool\n",
      "❌ Knowledge graph directory not found\n"
     ]
    }
   ],
   "source": [
    "# Example usage\n",
    "if __name__ == \"__main__\":\n",
    "    import_sans_kg(clear_db=True)"
   ]
  },
  {
   "cell_type": "code",
   "execution_count": null,
   "id": "e9a8a9d7-5069-483f-a726-008c4ea42b4f",
   "metadata": {},
   "outputs": [],
   "source": []
  }
 ],
 "metadata": {
  "kernelspec": {
   "display_name": "Python 3 (ipykernel)",
   "language": "python",
   "name": "python3"
  },
  "language_info": {
   "codemirror_mode": {
    "name": "ipython",
    "version": 3
   },
   "file_extension": ".py",
   "mimetype": "text/x-python",
   "name": "python",
   "nbconvert_exporter": "python",
   "pygments_lexer": "ipython3",
   "version": "3.10.16"
  }
 },
 "nbformat": 4,
 "nbformat_minor": 5
}
